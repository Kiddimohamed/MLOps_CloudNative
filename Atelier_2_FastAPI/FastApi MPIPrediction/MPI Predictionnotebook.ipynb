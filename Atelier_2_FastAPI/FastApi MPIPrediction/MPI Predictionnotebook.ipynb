{
 "cells": [
  {
   "cell_type": "code",
   "execution_count": 1,
   "metadata": {
    "ExecuteTime": {
     "end_time": "2024-01-06T20:37:31.418663546Z",
     "start_time": "2024-01-06T20:37:29.530241751Z"
    }
   },
   "outputs": [],
   "source": [
    "import pandas as pd\n",
    "from sklearn import preprocessing\n",
    "import numpy as np\n",
    "import pickle\n",
    "from sklearn.model_selection import train_test_split"
   ]
  },
  {
   "cell_type": "code",
   "execution_count": 10,
   "metadata": {
    "ExecuteTime": {
     "end_time": "2024-01-06T20:45:34.932937744Z",
     "start_time": "2024-01-06T20:45:34.746127883Z"
    }
   },
   "outputs": [],
   "source": [
    "df = pd.read_csv('../Data/Data_Smoten.csv', names=['MeshSize','NumberofVariables','VariableType','NumberofNodes'\n",
    "                            ,'NumberofCores','Dim','Communication'],skiprows=1, header=None)\n"
   ]
  },
  {
   "cell_type": "code",
   "outputs": [
    {
     "data": {
      "text/plain": "MeshSize             float64\nNumberofVariables    float64\nVariableType         float64\nNumberofNodes        float64\nNumberofCores        float64\nDim                  float64\nCommunication          int64\ndtype: object"
     },
     "execution_count": 11,
     "metadata": {},
     "output_type": "execute_result"
    }
   ],
   "source": [
    "df.dtypes"
   ],
   "metadata": {
    "collapsed": false,
    "ExecuteTime": {
     "end_time": "2024-01-06T20:45:35.840799896Z",
     "start_time": "2024-01-06T20:45:35.792410546Z"
    }
   },
   "execution_count": 11
  },
  {
   "cell_type": "code",
   "execution_count": 3,
   "metadata": {
    "ExecuteTime": {
     "end_time": "2024-01-06T16:36:37.270237140Z",
     "start_time": "2024-01-06T16:36:37.174435318Z"
    }
   },
   "outputs": [],
   "source": [
    "categs = ['category','sellable_online','other_colors','depth','height','width','price']\n",
    "furniture_data = df[categs]"
   ]
  },
  {
   "cell_type": "code",
   "execution_count": 4,
   "metadata": {
    "ExecuteTime": {
     "end_time": "2024-01-06T16:36:37.273070695Z",
     "start_time": "2024-01-06T16:36:37.175024235Z"
    }
   },
   "outputs": [
    {
     "data": {
      "text/plain": "category              0\nsellable_online       0\nother_colors          0\ndepth              1463\nheight              988\nwidth               589\nprice                 0\ndtype: int64"
     },
     "execution_count": 4,
     "metadata": {},
     "output_type": "execute_result"
    }
   ],
   "source": [
    "furniture_data.isnull().sum()"
   ]
  },
  {
   "cell_type": "code",
   "execution_count": 5,
   "metadata": {
    "ExecuteTime": {
     "end_time": "2024-01-06T16:36:37.308985542Z",
     "start_time": "2024-01-06T16:36:37.175543047Z"
    }
   },
   "outputs": [],
   "source": [
    "col_names = furniture_data.columns\n",
    "for c in col_names:\n",
    "    furniture_data = furniture_data.replace(\"?\", np.NaN)\n",
    "furniture_data = furniture_data.apply(lambda x:x.fillna(x.value_counts().index[0]))"
   ]
  },
  {
   "cell_type": "code",
   "execution_count": 6,
   "metadata": {
    "ExecuteTime": {
     "end_time": "2024-01-06T16:36:37.311772073Z",
     "start_time": "2024-01-06T16:36:37.193234679Z"
    }
   },
   "outputs": [
    {
     "data": {
      "text/plain": "category           0\nsellable_online    0\nother_colors       0\ndepth              0\nheight             0\nwidth              0\nprice              0\ndtype: int64"
     },
     "execution_count": 6,
     "metadata": {},
     "output_type": "execute_result"
    }
   ],
   "source": [
    "furniture_data.isnull().sum()"
   ]
  },
  {
   "cell_type": "code",
   "execution_count": 7,
   "metadata": {
    "ExecuteTime": {
     "end_time": "2024-01-06T16:36:37.465083095Z",
     "start_time": "2024-01-06T16:36:37.207591475Z"
    }
   },
   "outputs": [],
   "source": [
    "cat_col=['category','sellable_online','other_colors']\n",
    "labelEncoder = preprocessing.LabelEncoder()\n",
    "mapping_dict ={}"
   ]
  },
  {
   "cell_type": "code",
   "execution_count": 8,
   "metadata": {
    "ExecuteTime": {
     "end_time": "2024-01-06T16:36:37.537029501Z",
     "start_time": "2024-01-06T16:36:37.212828713Z"
    }
   },
   "outputs": [
    {
     "name": "stdout",
     "output_type": "stream",
     "text": [
      "{'category': {'Bar furniture': 0, 'Beds': 1, 'Bookcases & shelving units': 2, 'Cabinets & cupboards': 3, 'Café furniture': 4, 'Chairs': 5, 'Chests of drawers & drawer units': 6, \"Children's furniture\": 7, 'Nursery furniture': 8, 'Outdoor furniture': 9, 'Room dividers': 10, 'Sideboards, buffets & console tables': 11, 'Sofas & armchairs': 12, 'TV & media furniture': 13, 'Tables & desks': 14, 'Trolleys': 15, 'Wardrobes': 16}, 'sellable_online': {False: 0, True: 1}, 'other_colors': {'No': 0, 'Yes': 1}} \n"
     ]
    }
   ],
   "source": [
    "for col in cat_col:\n",
    "    furniture_data[col] = labelEncoder.fit_transform(furniture_data[col])\n",
    "    le_name_mapping = dict(zip(labelEncoder.classes_,labelEncoder.transform(labelEncoder.classes_)))\n",
    "    mapping_dict[col]= le_name_mapping\n",
    "print(mapping_dict, \"\\n\" )"
   ]
  },
  {
   "cell_type": "code",
   "execution_count": 9,
   "metadata": {
    "ExecuteTime": {
     "end_time": "2024-01-06T16:36:37.539574609Z",
     "start_time": "2024-01-06T16:36:37.258510451Z"
    }
   },
   "outputs": [],
   "source": [
    "X = furniture_data.drop('price', axis=1)  # features\n",
    "y = furniture_data['price'] # labels "
   ]
  },
  {
   "cell_type": "code",
   "execution_count": 10,
   "metadata": {
    "ExecuteTime": {
     "end_time": "2024-01-06T16:36:37.595362073Z",
     "start_time": "2024-01-06T16:36:37.258870302Z"
    }
   },
   "outputs": [],
   "source": [
    "X_train, X_test, y_train, y_test = train_test_split(X, y, test_size = 0.3, random_state=42)"
   ]
  },
  {
   "cell_type": "code",
   "execution_count": 11,
   "metadata": {
    "ExecuteTime": {
     "end_time": "2024-01-06T16:36:37.614275377Z",
     "start_time": "2024-01-06T16:36:37.312808623Z"
    }
   },
   "outputs": [
    {
     "name": "stdout",
     "output_type": "stream",
     "text": [
      "LRregressor / Train score is : 0.5117190896148673\n",
      "LRregressor / Test score is : 0.44411655347826273\n",
      "Prediction of Linear Regression: [1667.39822709 2301.90735864  546.06119476 ...  763.45692838  831.94283947\n",
      "  371.45651531]\n"
     ]
    }
   ],
   "source": [
    "# #### Linear Regression\n",
    "\n",
    "from sklearn.linear_model import LinearRegression\n",
    "\n",
    "LRregressor = LinearRegression()\n",
    "LRregressor.fit(X_train,y_train)\n",
    "\n",
    "# Calculate the training and test score\n",
    "print(\"LRregressor / Train score is :\", LRregressor.score(X_train,y_train))\n",
    "print(\"LRregressor / Test score is :\", LRregressor.score(X_test,y_test))\n",
    "\n",
    "# Calculate the prediction of the model\n",
    "ypred_LR = LRregressor.predict(X_test)\n",
    "print(\"Prediction of Linear Regression:\", ypred_LR)"
   ]
  },
  {
   "cell_type": "code",
   "execution_count": 12,
   "metadata": {
    "ExecuteTime": {
     "end_time": "2024-01-06T16:36:37.623469531Z",
     "start_time": "2024-01-06T16:36:37.402409963Z"
    }
   },
   "outputs": [
    {
     "name": "stdout",
     "output_type": "stream",
     "text": [
      "Decision Tree Regressor / Train score is : 0.8681156843708964\n",
      "Decision Tree Regressor / Test score is : 0.6272993227536424\n",
      "Prediction of Decision Tree: [1155.7125     2874.125       338.9        ... 1522.49206349  665.\n",
      "   53.07027027]\n"
     ]
    }
   ],
   "source": [
    "# #### Decision Tree Regressor\n",
    "\n",
    "from sklearn.tree import DecisionTreeRegressor\n",
    "\n",
    "DTregressor = DecisionTreeRegressor(max_depth=10, random_state=1)\n",
    "DTregressor.fit(X_train,y_train)\n",
    "\n",
    "# Calculate the training and test score\n",
    "print(\"Decision Tree Regressor / Train score is :\", DTregressor.score(X_train,y_train))\n",
    "print(\"Decision Tree Regressor / Test score is :\", DTregressor.score(X_test,y_test))\n",
    "\n",
    "\n",
    "# Calculate the prediction of the model\n",
    "ypred_DTr = DTregressor.predict(X_test)\n",
    "print(\"Prediction of Decision Tree:\", ypred_DTr)"
   ]
  },
  {
   "cell_type": "code",
   "execution_count": 13,
   "metadata": {
    "ExecuteTime": {
     "end_time": "2024-01-06T16:36:38.843681881Z",
     "start_time": "2024-01-06T16:36:37.519538866Z"
    }
   },
   "outputs": [
    {
     "name": "stdout",
     "output_type": "stream",
     "text": [
      "Random Forest Regressor / Train score is : 0.5890069382678234\n",
      "Random Forest Regressor / Test score is : 0.4817184118460528\n",
      "Random Forest Regressor / N° of features  are :  6\n",
      "Important features are :  [3.02612097e-02 0.00000000e+00 2.27563922e-04 7.97193786e-02\n",
      " 2.10046518e-02 8.68787196e-01]\n",
      "Prediction of Random Forest : [1354.48782927 2076.0810553   635.71835673 ...  639.84974755  225.92078429\n",
      "  635.71835673]\n"
     ]
    }
   ],
   "source": [
    "# #### Random Forest Regressor\n",
    "\n",
    "from sklearn.ensemble import RandomForestRegressor\n",
    "\n",
    "RFregressor = RandomForestRegressor(n_estimators=100, max_depth=3, random_state=1)\n",
    "RFregressor.fit(X_train,y_train)\n",
    "\n",
    "# Calculate the training and test score\n",
    "print(\"Random Forest Regressor / Train score is :\", RFregressor.score(X_train,y_train))\n",
    "print(\"Random Forest Regressor / Test score is :\", RFregressor.score(X_test,y_test))\n",
    "print(\"Random Forest Regressor / N° of features  are : \", RFregressor.n_features_in_)\n",
    "print(\"Important features are : \" , RFregressor.feature_importances_)\n",
    "\n",
    "\n",
    "# Calculate the prediction of the model\n",
    "ypred_RFr = RFregressor.predict(X_test)\n",
    "print(\"Prediction of Random Forest :\", ypred_RFr)"
   ]
  },
  {
   "cell_type": "code",
   "execution_count": 14,
   "metadata": {
    "ExecuteTime": {
     "end_time": "2024-01-06T16:36:39.786463309Z",
     "start_time": "2024-01-06T16:36:38.337131251Z"
    }
   },
   "outputs": [
    {
     "name": "stdout",
     "output_type": "stream",
     "text": [
      "SVM regressor / Train score is : 0.4639902599583918\n",
      "SVM regressor / Test score is : 0.3973281417306833\n"
     ]
    }
   ],
   "source": [
    "from sklearn.svm import SVR\n",
    "\n",
    "SVMregressor = SVR(kernel='linear')\n",
    "SVMregressor.fit(X_train, y_train)\n",
    "\n",
    "# Calculate the training and test score\n",
    "print(\"SVM regressor / Train score is :\", SVMregressor.score(X_train,y_train))\n",
    "print(\"SVM regressor / Test score is :\", SVMregressor.score(X_test,y_test))"
   ]
  },
  {
   "cell_type": "code",
   "execution_count": 15,
   "metadata": {
    "ExecuteTime": {
     "end_time": "2024-01-06T16:36:39.908417674Z",
     "start_time": "2024-01-06T16:36:39.767409285Z"
    }
   },
   "outputs": [
    {
     "name": "stdout",
     "output_type": "stream",
     "text": [
      "Prediction of SVM : [1415.87356967 2051.36220977  580.88569529 ...  441.91700973  804.69055207\n",
      "  194.73957799]\n"
     ]
    }
   ],
   "source": [
    "# Calculate the prediction of the model\n",
    "ypred_SVMr = SVMregressor.predict(X_test)\n",
    "print(\"Prediction of SVM :\", ypred_SVMr)"
   ]
  },
  {
   "cell_type": "code",
   "execution_count": 18,
   "metadata": {
    "ExecuteTime": {
     "end_time": "2024-01-06T16:39:41.150000410Z",
     "start_time": "2024-01-06T16:39:41.111999350Z"
    }
   },
   "outputs": [],
   "source": [
    "### Saving the best model ###\n",
    "\n",
    "# Saving model to disk\n",
    "pickle.dump(DTregressor, open('models/DTmodel.pkl','wb'))"
   ]
  },
  {
   "cell_type": "code",
   "execution_count": 2,
   "metadata": {},
   "outputs": [
    {
     "name": "stdout",
     "output_type": "stream",
     "text": [
      "<title>Bienvenue à l'UM6P | Université Mohammed VI Polytechnique</title>\n"
     ]
    }
   ],
   "source": []
  },
  {
   "cell_type": "code",
   "execution_count": null,
   "metadata": {},
   "outputs": [],
   "source": []
  }
 ],
 "metadata": {
  "kernelspec": {
   "display_name": "Python 3 (ipykernel)",
   "language": "python",
   "name": "python3"
  },
  "language_info": {
   "codemirror_mode": {
    "name": "ipython",
    "version": 3
   },
   "file_extension": ".py",
   "mimetype": "text/x-python",
   "name": "python",
   "nbconvert_exporter": "python",
   "pygments_lexer": "ipython3",
   "version": "3.10.12"
  }
 },
 "nbformat": 4,
 "nbformat_minor": 2
}
