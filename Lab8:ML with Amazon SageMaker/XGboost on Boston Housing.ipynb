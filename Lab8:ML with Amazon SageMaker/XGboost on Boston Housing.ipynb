{
 "cells": [
  {
   "cell_type": "code",
   "execution_count": 2,
   "metadata": {},
   "outputs": [
    {
     "name": "stderr",
     "output_type": "stream",
     "text": [
      "/home/ec2-user/anaconda3/envs/python3/lib/python3.10/site-packages/pandas/core/computation/expressions.py:21: UserWarning: Pandas requires version '2.8.0' or newer of 'numexpr' (version '2.7.3' currently installed).\n",
      "  from pandas.core.computation.check import NUMEXPR_INSTALLED\n"
     ]
    }
   ],
   "source": [
    "import pandas as pd\n",
    "\n",
    "dataset = pd.read_csv('housing.csv')"
   ]
  },
  {
   "cell_type": "code",
   "execution_count": 9,
   "metadata": {},
   "outputs": [
    {
     "name": "stdout",
     "output_type": "stream",
     "text": [
      "Requirement already satisfied: sagemaker in /home/ec2-user/anaconda3/envs/python3/lib/python3.10/site-packages (2.199.0)\n",
      "Requirement already satisfied: attrs<24,>=23.1.0 in /home/ec2-user/anaconda3/envs/python3/lib/python3.10/site-packages (from sagemaker) (23.1.0)\n",
      "Requirement already satisfied: boto3<2.0,>=1.33.3 in /home/ec2-user/anaconda3/envs/python3/lib/python3.10/site-packages (from sagemaker) (1.33.5)\n",
      "Requirement already satisfied: cloudpickle==2.2.1 in /home/ec2-user/anaconda3/envs/python3/lib/python3.10/site-packages (from sagemaker) (2.2.1)\n",
      "Requirement already satisfied: google-pasta in /home/ec2-user/anaconda3/envs/python3/lib/python3.10/site-packages (from sagemaker) (0.2.0)\n",
      "Requirement already satisfied: numpy<2.0,>=1.9.0 in /home/ec2-user/anaconda3/envs/python3/lib/python3.10/site-packages (from sagemaker) (1.22.4)\n",
      "Requirement already satisfied: protobuf<5.0,>=3.12 in /home/ec2-user/anaconda3/envs/python3/lib/python3.10/site-packages (from sagemaker) (4.25.1)\n",
      "Requirement already satisfied: smdebug-rulesconfig==1.0.1 in /home/ec2-user/anaconda3/envs/python3/lib/python3.10/site-packages (from sagemaker) (1.0.1)\n",
      "Requirement already satisfied: importlib-metadata<7.0,>=1.4.0 in /home/ec2-user/anaconda3/envs/python3/lib/python3.10/site-packages (from sagemaker) (6.8.0)\n",
      "Requirement already satisfied: packaging>=20.0 in /home/ec2-user/anaconda3/envs/python3/lib/python3.10/site-packages (from sagemaker) (21.3)\n",
      "Requirement already satisfied: pandas in /home/ec2-user/anaconda3/envs/python3/lib/python3.10/site-packages (from sagemaker) (2.1.1)\n",
      "Requirement already satisfied: pathos in /home/ec2-user/anaconda3/envs/python3/lib/python3.10/site-packages (from sagemaker) (0.3.1)\n",
      "Requirement already satisfied: schema in /home/ec2-user/anaconda3/envs/python3/lib/python3.10/site-packages (from sagemaker) (0.7.5)\n",
      "Requirement already satisfied: PyYAML~=6.0 in /home/ec2-user/anaconda3/envs/python3/lib/python3.10/site-packages (from sagemaker) (6.0.1)\n",
      "Requirement already satisfied: jsonschema in /home/ec2-user/anaconda3/envs/python3/lib/python3.10/site-packages (from sagemaker) (4.19.1)\n",
      "Requirement already satisfied: platformdirs in /home/ec2-user/anaconda3/envs/python3/lib/python3.10/site-packages (from sagemaker) (3.11.0)\n",
      "Requirement already satisfied: tblib==1.7.0 in /home/ec2-user/anaconda3/envs/python3/lib/python3.10/site-packages (from sagemaker) (1.7.0)\n",
      "Requirement already satisfied: urllib3<1.27 in /home/ec2-user/anaconda3/envs/python3/lib/python3.10/site-packages (from sagemaker) (1.26.18)\n",
      "Requirement already satisfied: uvicorn==0.22.0 in /home/ec2-user/anaconda3/envs/python3/lib/python3.10/site-packages (from sagemaker) (0.22.0)\n",
      "Requirement already satisfied: fastapi==0.95.2 in /home/ec2-user/anaconda3/envs/python3/lib/python3.10/site-packages (from sagemaker) (0.95.2)\n",
      "Requirement already satisfied: requests in /home/ec2-user/anaconda3/envs/python3/lib/python3.10/site-packages (from sagemaker) (2.31.0)\n",
      "Requirement already satisfied: docker in /home/ec2-user/anaconda3/envs/python3/lib/python3.10/site-packages (from sagemaker) (6.1.3)\n",
      "Requirement already satisfied: tqdm in /home/ec2-user/anaconda3/envs/python3/lib/python3.10/site-packages (from sagemaker) (4.66.1)\n",
      "Requirement already satisfied: psutil in /home/ec2-user/anaconda3/envs/python3/lib/python3.10/site-packages (from sagemaker) (5.9.5)\n",
      "Requirement already satisfied: pydantic!=1.7,!=1.7.1,!=1.7.2,!=1.7.3,!=1.8,!=1.8.1,<2.0.0,>=1.6.2 in /home/ec2-user/anaconda3/envs/python3/lib/python3.10/site-packages (from fastapi==0.95.2->sagemaker) (1.10.13)\n",
      "Requirement already satisfied: starlette<0.28.0,>=0.27.0 in /home/ec2-user/anaconda3/envs/python3/lib/python3.10/site-packages (from fastapi==0.95.2->sagemaker) (0.27.0)\n",
      "Requirement already satisfied: click>=7.0 in /home/ec2-user/anaconda3/envs/python3/lib/python3.10/site-packages (from uvicorn==0.22.0->sagemaker) (8.1.7)\n",
      "Requirement already satisfied: h11>=0.8 in /home/ec2-user/anaconda3/envs/python3/lib/python3.10/site-packages (from uvicorn==0.22.0->sagemaker) (0.14.0)\n",
      "Requirement already satisfied: botocore<1.34.0,>=1.33.5 in /home/ec2-user/anaconda3/envs/python3/lib/python3.10/site-packages (from boto3<2.0,>=1.33.3->sagemaker) (1.33.5)\n",
      "Requirement already satisfied: jmespath<2.0.0,>=0.7.1 in /home/ec2-user/anaconda3/envs/python3/lib/python3.10/site-packages (from boto3<2.0,>=1.33.3->sagemaker) (1.0.1)\n",
      "Requirement already satisfied: s3transfer<0.9.0,>=0.8.2 in /home/ec2-user/anaconda3/envs/python3/lib/python3.10/site-packages (from boto3<2.0,>=1.33.3->sagemaker) (0.8.2)\n",
      "Requirement already satisfied: zipp>=0.5 in /home/ec2-user/anaconda3/envs/python3/lib/python3.10/site-packages (from importlib-metadata<7.0,>=1.4.0->sagemaker) (3.17.0)\n",
      "Requirement already satisfied: pyparsing!=3.0.5,>=2.0.2 in /home/ec2-user/anaconda3/envs/python3/lib/python3.10/site-packages (from packaging>=20.0->sagemaker) (3.1.1)\n",
      "Requirement already satisfied: websocket-client>=0.32.0 in /home/ec2-user/anaconda3/envs/python3/lib/python3.10/site-packages (from docker->sagemaker) (1.6.4)\n",
      "Requirement already satisfied: charset-normalizer<4,>=2 in /home/ec2-user/anaconda3/envs/python3/lib/python3.10/site-packages (from requests->sagemaker) (3.3.1)\n",
      "Requirement already satisfied: idna<4,>=2.5 in /home/ec2-user/anaconda3/envs/python3/lib/python3.10/site-packages (from requests->sagemaker) (3.4)\n",
      "Requirement already satisfied: certifi>=2017.4.17 in /home/ec2-user/anaconda3/envs/python3/lib/python3.10/site-packages (from requests->sagemaker) (2023.7.22)\n",
      "Requirement already satisfied: six in /home/ec2-user/anaconda3/envs/python3/lib/python3.10/site-packages (from google-pasta->sagemaker) (1.16.0)\n",
      "Requirement already satisfied: jsonschema-specifications>=2023.03.6 in /home/ec2-user/anaconda3/envs/python3/lib/python3.10/site-packages (from jsonschema->sagemaker) (2023.7.1)\n",
      "Requirement already satisfied: referencing>=0.28.4 in /home/ec2-user/anaconda3/envs/python3/lib/python3.10/site-packages (from jsonschema->sagemaker) (0.30.2)\n",
      "Requirement already satisfied: rpds-py>=0.7.1 in /home/ec2-user/anaconda3/envs/python3/lib/python3.10/site-packages (from jsonschema->sagemaker) (0.10.6)\n",
      "Requirement already satisfied: python-dateutil>=2.8.2 in /home/ec2-user/anaconda3/envs/python3/lib/python3.10/site-packages (from pandas->sagemaker) (2.8.2)\n",
      "Requirement already satisfied: pytz>=2020.1 in /home/ec2-user/anaconda3/envs/python3/lib/python3.10/site-packages (from pandas->sagemaker) (2023.3.post1)\n",
      "Requirement already satisfied: tzdata>=2022.1 in /home/ec2-user/anaconda3/envs/python3/lib/python3.10/site-packages (from pandas->sagemaker) (2023.3)\n",
      "Requirement already satisfied: ppft>=1.7.6.7 in /home/ec2-user/anaconda3/envs/python3/lib/python3.10/site-packages (from pathos->sagemaker) (1.7.6.7)\n",
      "Requirement already satisfied: dill>=0.3.7 in /home/ec2-user/anaconda3/envs/python3/lib/python3.10/site-packages (from pathos->sagemaker) (0.3.7)\n",
      "Requirement already satisfied: pox>=0.3.3 in /home/ec2-user/anaconda3/envs/python3/lib/python3.10/site-packages (from pathos->sagemaker) (0.3.3)\n",
      "Requirement already satisfied: multiprocess>=0.70.15 in /home/ec2-user/anaconda3/envs/python3/lib/python3.10/site-packages (from pathos->sagemaker) (0.70.15)\n",
      "Requirement already satisfied: contextlib2>=0.5.5 in /home/ec2-user/anaconda3/envs/python3/lib/python3.10/site-packages (from schema->sagemaker) (21.6.0)\n",
      "Requirement already satisfied: typing-extensions>=4.2.0 in /home/ec2-user/anaconda3/envs/python3/lib/python3.10/site-packages (from pydantic!=1.7,!=1.7.1,!=1.7.2,!=1.7.3,!=1.8,!=1.8.1,<2.0.0,>=1.6.2->fastapi==0.95.2->sagemaker) (4.8.0)\n",
      "Requirement already satisfied: anyio<5,>=3.4.0 in /home/ec2-user/anaconda3/envs/python3/lib/python3.10/site-packages (from starlette<0.28.0,>=0.27.0->fastapi==0.95.2->sagemaker) (4.0.0)\n",
      "Requirement already satisfied: sniffio>=1.1 in /home/ec2-user/anaconda3/envs/python3/lib/python3.10/site-packages (from anyio<5,>=3.4.0->starlette<0.28.0,>=0.27.0->fastapi==0.95.2->sagemaker) (1.3.0)\n",
      "Requirement already satisfied: exceptiongroup>=1.0.2 in /home/ec2-user/anaconda3/envs/python3/lib/python3.10/site-packages (from anyio<5,>=3.4.0->starlette<0.28.0,>=0.27.0->fastapi==0.95.2->sagemaker) (1.1.3)\n"
     ]
    }
   ],
   "source": [
    "!pip install -U sagemaker"
   ]
  },
  {
   "cell_type": "code",
   "execution_count": 3,
   "metadata": {},
   "outputs": [
    {
     "name": "stdout",
     "output_type": "stream",
     "text": [
      "(506, 13)\n"
     ]
    },
    {
     "data": {
      "text/html": [
       "<div>\n",
       "<style scoped>\n",
       "    .dataframe tbody tr th:only-of-type {\n",
       "        vertical-align: middle;\n",
       "    }\n",
       "\n",
       "    .dataframe tbody tr th {\n",
       "        vertical-align: top;\n",
       "    }\n",
       "\n",
       "    .dataframe thead th {\n",
       "        text-align: right;\n",
       "    }\n",
       "</style>\n",
       "<table border=\"1\" class=\"dataframe\">\n",
       "  <thead>\n",
       "    <tr style=\"text-align: right;\">\n",
       "      <th></th>\n",
       "      <th>crim</th>\n",
       "      <th>zn</th>\n",
       "      <th>indus</th>\n",
       "      <th>chas</th>\n",
       "      <th>nox</th>\n",
       "      <th>age</th>\n",
       "      <th>rm</th>\n",
       "      <th>dis</th>\n",
       "      <th>rad</th>\n",
       "      <th>tax</th>\n",
       "      <th>ptratio</th>\n",
       "      <th>lstat</th>\n",
       "      <th>medv</th>\n",
       "    </tr>\n",
       "  </thead>\n",
       "  <tbody>\n",
       "    <tr>\n",
       "      <th>0</th>\n",
       "      <td>0.00632</td>\n",
       "      <td>18.0</td>\n",
       "      <td>2.31</td>\n",
       "      <td>0</td>\n",
       "      <td>0.538</td>\n",
       "      <td>6.575</td>\n",
       "      <td>65.2</td>\n",
       "      <td>4.0900</td>\n",
       "      <td>1</td>\n",
       "      <td>296.0</td>\n",
       "      <td>15.3</td>\n",
       "      <td>4.98</td>\n",
       "      <td>24.0</td>\n",
       "    </tr>\n",
       "    <tr>\n",
       "      <th>1</th>\n",
       "      <td>0.02731</td>\n",
       "      <td>0.0</td>\n",
       "      <td>7.07</td>\n",
       "      <td>0</td>\n",
       "      <td>0.469</td>\n",
       "      <td>6.421</td>\n",
       "      <td>78.9</td>\n",
       "      <td>4.9671</td>\n",
       "      <td>2</td>\n",
       "      <td>242.0</td>\n",
       "      <td>17.8</td>\n",
       "      <td>9.14</td>\n",
       "      <td>21.6</td>\n",
       "    </tr>\n",
       "    <tr>\n",
       "      <th>2</th>\n",
       "      <td>0.02729</td>\n",
       "      <td>0.0</td>\n",
       "      <td>7.07</td>\n",
       "      <td>0</td>\n",
       "      <td>0.469</td>\n",
       "      <td>7.185</td>\n",
       "      <td>61.1</td>\n",
       "      <td>4.9671</td>\n",
       "      <td>2</td>\n",
       "      <td>242.0</td>\n",
       "      <td>17.8</td>\n",
       "      <td>4.03</td>\n",
       "      <td>34.7</td>\n",
       "    </tr>\n",
       "    <tr>\n",
       "      <th>3</th>\n",
       "      <td>0.03237</td>\n",
       "      <td>0.0</td>\n",
       "      <td>2.18</td>\n",
       "      <td>0</td>\n",
       "      <td>0.458</td>\n",
       "      <td>6.998</td>\n",
       "      <td>45.8</td>\n",
       "      <td>6.0622</td>\n",
       "      <td>3</td>\n",
       "      <td>222.0</td>\n",
       "      <td>18.7</td>\n",
       "      <td>2.94</td>\n",
       "      <td>33.4</td>\n",
       "    </tr>\n",
       "    <tr>\n",
       "      <th>4</th>\n",
       "      <td>0.06905</td>\n",
       "      <td>0.0</td>\n",
       "      <td>2.18</td>\n",
       "      <td>0</td>\n",
       "      <td>0.458</td>\n",
       "      <td>7.147</td>\n",
       "      <td>54.2</td>\n",
       "      <td>6.0622</td>\n",
       "      <td>3</td>\n",
       "      <td>222.0</td>\n",
       "      <td>18.7</td>\n",
       "      <td>5.33</td>\n",
       "      <td>36.2</td>\n",
       "    </tr>\n",
       "  </tbody>\n",
       "</table>\n",
       "</div>"
      ],
      "text/plain": [
       "      crim    zn  indus  chas    nox    age    rm     dis  rad    tax  \\\n",
       "0  0.00632  18.0   2.31     0  0.538  6.575  65.2  4.0900    1  296.0   \n",
       "1  0.02731   0.0   7.07     0  0.469  6.421  78.9  4.9671    2  242.0   \n",
       "2  0.02729   0.0   7.07     0  0.469  7.185  61.1  4.9671    2  242.0   \n",
       "3  0.03237   0.0   2.18     0  0.458  6.998  45.8  6.0622    3  222.0   \n",
       "4  0.06905   0.0   2.18     0  0.458  7.147  54.2  6.0622    3  222.0   \n",
       "\n",
       "   ptratio  lstat  medv  \n",
       "0     15.3   4.98  24.0  \n",
       "1     17.8   9.14  21.6  \n",
       "2     17.8   4.03  34.7  \n",
       "3     18.7   2.94  33.4  \n",
       "4     18.7   5.33  36.2  "
      ]
     },
     "execution_count": 3,
     "metadata": {},
     "output_type": "execute_result"
    }
   ],
   "source": [
    "print(dataset.shape)\n",
    "dataset[:5]"
   ]
  },
  {
   "cell_type": "code",
   "execution_count": 4,
   "metadata": {},
   "outputs": [],
   "source": [
    "# Move 'medv' column to front\n",
    "dataset = pd.concat([dataset['medv'], dataset.drop(['medv'], axis=1)], axis=1)"
   ]
  },
  {
   "cell_type": "code",
   "execution_count": 5,
   "metadata": {},
   "outputs": [
    {
     "name": "stdout",
     "output_type": "stream",
     "text": [
      "(455, 13)\n",
      "(51, 13)\n"
     ]
    }
   ],
   "source": [
    "from sklearn.model_selection import train_test_split\n",
    "training_dataset, validation_dataset = train_test_split(dataset, test_size=0.1)\n",
    "\n",
    "print(training_dataset.shape)\n",
    "print(validation_dataset.shape)"
   ]
  },
  {
   "cell_type": "code",
   "execution_count": 6,
   "metadata": {},
   "outputs": [],
   "source": [
    "training_dataset.to_csv('training_dataset.csv', index=False, header=False)\n",
    "validation_dataset.to_csv('validation_dataset.csv', index=False, header=False)"
   ]
  },
  {
   "cell_type": "code",
   "execution_count": 7,
   "metadata": {},
   "outputs": [
    {
     "name": "stdout",
     "output_type": "stream",
     "text": [
      "sagemaker.config INFO - Not applying SDK defaults from location: /etc/xdg/sagemaker/config.yaml\n",
      "sagemaker.config INFO - Not applying SDK defaults from location: /home/ec2-user/.config/sagemaker/config.yaml\n",
      "2.199.0\n",
      "sagemaker.config INFO - Not applying SDK defaults from location: /etc/xdg/sagemaker/config.yaml\n",
      "sagemaker.config INFO - Not applying SDK defaults from location: /home/ec2-user/.config/sagemaker/config.yaml\n",
      "s3://sagemaker-us-east-1-918870134825/boston-housing/input/training/training_dataset.csv\n",
      "s3://sagemaker-us-east-1-918870134825/boston-housing/input/validation/validation_dataset.csv\n"
     ]
    }
   ],
   "source": [
    "import sagemaker\n",
    "\n",
    "print(sagemaker.__version__)\n",
    "\n",
    "sess = sagemaker.Session()\n",
    "bucket = sess.default_bucket()\n",
    "\n",
    "prefix = 'boston-housing'\n",
    "training_data_path = sess.upload_data(path='training_dataset.csv', key_prefix=prefix + '/input/training')\n",
    "validation_data_path = sess.upload_data(path='validation_dataset.csv', key_prefix=prefix + '/input/validation')\n",
    "\n",
    "print(training_data_path)\n",
    "print(validation_data_path)"
   ]
  },
  {
   "cell_type": "code",
   "execution_count": null,
   "metadata": {},
   "outputs": [],
   "source": []
  },
  {
   "cell_type": "code",
   "execution_count": 42,
   "metadata": {},
   "outputs": [
    {
     "name": "stderr",
     "output_type": "stream",
     "text": [
      "INFO:sagemaker.image_uris:Ignoring unnecessary instance type: None.\n"
     ]
    },
    {
     "name": "stdout",
     "output_type": "stream",
     "text": [
      "683313688378.dkr.ecr.us-east-1.amazonaws.com/sagemaker-xgboost:1.2-1\n",
      "sagemaker.config INFO - Not applying SDK defaults from location: /etc/xdg/sagemaker/config.yaml\n",
      "sagemaker.config INFO - Not applying SDK defaults from location: /home/ec2-user/.config/sagemaker/config.yaml\n",
      "sagemaker.config INFO - Not applying SDK defaults from location: /etc/xdg/sagemaker/config.yaml\n",
      "sagemaker.config INFO - Not applying SDK defaults from location: /home/ec2-user/.config/sagemaker/config.yaml\n"
     ]
    }
   ],
   "source": [
    "import boto3\n",
    "from sagemaker import image_uris\n",
    "\n",
    "region = boto3.Session().region_name    \n",
    "container = image_uris.retrieve('xgboost', region, version='1.2-1')\n",
    "\n",
    "print(container)\n",
    "\n",
    "\n",
    "role = sagemaker.get_execution_role() \n",
    "\n",
    "xgb_estimator = sagemaker.estimator.Estimator(container,\n",
    "                                    role=role,\n",
    "                                    instance_count=1,\n",
    "                                    instance_type='ml.m4.xlarge',\n",
    "                                    output_path='s3://{}/{}/output'.format(bucket, prefix),\n",
    "                                    #sagemaker_session=sagemaker_session\n",
    "                                )\n",
    "\n",
    "xgb_estimator.set_hyperparameters(\n",
    "    objective='reg:squarederror',  # Setting the objective for regression\n",
    "    num_round=100,  # Number of boosting rounds\n",
    "    max_depth=5  # Maximum tree depth\n",
    ")"
   ]
  },
  {
   "cell_type": "code",
   "execution_count": 43,
   "metadata": {},
   "outputs": [],
   "source": [
    "training_data_channel   = sagemaker.TrainingInput(s3_data=training_data_path, content_type='text/csv')\n",
    "validation_data_channel = sagemaker.TrainingInput(s3_data=validation_data_path, content_type='text/csv')\n",
    "\n",
    "xgb_data = {'train': training_data_channel, 'validation': validation_data_channel}"
   ]
  },
  {
   "cell_type": "code",
   "execution_count": 44,
   "metadata": {
    "scrolled": true
   },
   "outputs": [
    {
     "name": "stderr",
     "output_type": "stream",
     "text": [
      "INFO:sagemaker:Creating training-job with name: sagemaker-xgboost-2023-12-12-10-06-34-974\n"
     ]
    },
    {
     "name": "stdout",
     "output_type": "stream",
     "text": [
      "2023-12-12 10:06:35 Starting - Starting the training job......\n",
      "2023-12-12 10:07:10 Starting - Preparing the instances for training......\n",
      "2023-12-12 10:08:34 Downloading - Downloading input data......\n",
      "2023-12-12 10:09:09 Training - Downloading the training image...\n",
      "2023-12-12 10:10:04 Training - Training image download completed. Training in progress...\u001b[34m[2023-12-12 10:10:13.035 ip-10-0-122-39.ec2.internal:7 INFO utils.py:27] RULE_JOB_STOP_SIGNAL_FILENAME: None\u001b[0m\n",
      "\u001b[34mINFO:sagemaker-containers:Imported framework sagemaker_xgboost_container.training\u001b[0m\n",
      "\u001b[34mINFO:sagemaker-containers:Failed to parse hyperparameter objective value reg:squarederror to Json.\u001b[0m\n",
      "\u001b[34mReturning the value itself\u001b[0m\n",
      "\u001b[34mINFO:sagemaker-containers:No GPUs detected (normal if no gpus installed)\u001b[0m\n",
      "\u001b[34mINFO:sagemaker_xgboost_container.training:Running XGBoost Sagemaker in algorithm mode\u001b[0m\n",
      "\u001b[34mINFO:root:Determined delimiter of CSV input is ','\u001b[0m\n",
      "\u001b[34mINFO:root:Determined delimiter of CSV input is ','\u001b[0m\n",
      "\u001b[34mINFO:root:Determined delimiter of CSV input is ','\u001b[0m\n",
      "\u001b[34mINFO:root:Determined delimiter of CSV input is ','\u001b[0m\n",
      "\u001b[34mINFO:root:Single node training.\u001b[0m\n",
      "\u001b[34m[2023-12-12 10:10:13.149 ip-10-0-122-39.ec2.internal:7 INFO json_config.py:91] Creating hook from json_config at /opt/ml/input/config/debughookconfig.json.\u001b[0m\n",
      "\u001b[34m[2023-12-12 10:10:13.150 ip-10-0-122-39.ec2.internal:7 INFO hook.py:199] tensorboard_dir has not been set for the hook. SMDebug will not be exporting tensorboard summaries.\u001b[0m\n",
      "\u001b[34m[2023-12-12 10:10:13.150 ip-10-0-122-39.ec2.internal:7 INFO profiler_config_parser.py:102] User has disabled profiler.\u001b[0m\n",
      "\u001b[34m[2023-12-12 10:10:13.151 ip-10-0-122-39.ec2.internal:7 INFO hook.py:253] Saving to /opt/ml/output/tensors\u001b[0m\n",
      "\u001b[34m[2023-12-12 10:10:13.151 ip-10-0-122-39.ec2.internal:7 INFO state_store.py:77] The checkpoint config file /opt/ml/input/config/checkpointconfig.json does not exist.\u001b[0m\n",
      "\u001b[34mINFO:root:Debug hook created from config\u001b[0m\n",
      "\u001b[34mINFO:root:Train matrix has 455 rows and 12 columns\u001b[0m\n",
      "\u001b[34mINFO:root:Validation matrix has 51 rows\u001b[0m\n",
      "\u001b[34m[0]#011train-rmse:16.93296#011validation-rmse:18.42694\u001b[0m\n",
      "\u001b[34m[2023-12-12 10:10:13.154 ip-10-0-122-39.ec2.internal:7 INFO hook.py:413] Monitoring the collections: metrics\u001b[0m\n",
      "\u001b[34m[2023-12-12 10:10:13.160 ip-10-0-122-39.ec2.internal:7 INFO hook.py:476] Hook is writing from the hook with pid: 7\u001b[0m\n",
      "\u001b[34m[1]#011train-rmse:12.21505#011validation-rmse:13.38105\u001b[0m\n",
      "\u001b[34m[2]#011train-rmse:8.88179#011validation-rmse:9.81807\u001b[0m\n",
      "\u001b[34m[3]#011train-rmse:6.56313#011validation-rmse:7.53592\u001b[0m\n",
      "\u001b[34m[4]#011train-rmse:4.93999#011validation-rmse:5.85842\u001b[0m\n",
      "\u001b[34m[5]#011train-rmse:3.80363#011validation-rmse:4.82695\u001b[0m\n",
      "\u001b[34m[6]#011train-rmse:3.02299#011validation-rmse:4.07698\u001b[0m\n",
      "\u001b[34m[7]#011train-rmse:2.50238#011validation-rmse:3.69607\u001b[0m\n",
      "\u001b[34m[8]#011train-rmse:2.14146#011validation-rmse:3.47761\u001b[0m\n",
      "\u001b[34m[9]#011train-rmse:1.91426#011validation-rmse:3.31527\u001b[0m\n",
      "\u001b[34m[10]#011train-rmse:1.72844#011validation-rmse:3.27097\u001b[0m\n",
      "\u001b[34m[11]#011train-rmse:1.60838#011validation-rmse:3.26590\u001b[0m\n",
      "\u001b[34m[12]#011train-rmse:1.51459#011validation-rmse:3.20220\u001b[0m\n",
      "\u001b[34m[13]#011train-rmse:1.41351#011validation-rmse:3.17081\u001b[0m\n",
      "\u001b[34m[14]#011train-rmse:1.33063#011validation-rmse:3.18806\u001b[0m\n",
      "\u001b[34m[15]#011train-rmse:1.28327#011validation-rmse:3.14240\u001b[0m\n",
      "\u001b[34m[16]#011train-rmse:1.24316#011validation-rmse:3.13969\u001b[0m\n",
      "\u001b[34m[17]#011train-rmse:1.20873#011validation-rmse:3.14755\u001b[0m\n",
      "\u001b[34m[18]#011train-rmse:1.16434#011validation-rmse:3.07399\u001b[0m\n",
      "\u001b[34m[19]#011train-rmse:1.14872#011validation-rmse:3.07464\u001b[0m\n",
      "\u001b[34m[20]#011train-rmse:1.07677#011validation-rmse:3.11239\u001b[0m\n",
      "\u001b[34m[21]#011train-rmse:1.03624#011validation-rmse:3.12096\u001b[0m\n",
      "\u001b[34m[22]#011train-rmse:1.00024#011validation-rmse:3.11223\u001b[0m\n",
      "\u001b[34m[23]#011train-rmse:0.98358#011validation-rmse:3.11046\u001b[0m\n",
      "\u001b[34m[24]#011train-rmse:0.93434#011validation-rmse:3.13123\u001b[0m\n",
      "\u001b[34m[25]#011train-rmse:0.91387#011validation-rmse:3.11979\u001b[0m\n",
      "\u001b[34m[26]#011train-rmse:0.89715#011validation-rmse:3.11532\u001b[0m\n",
      "\u001b[34m[27]#011train-rmse:0.88301#011validation-rmse:3.11114\u001b[0m\n",
      "\u001b[34m[28]#011train-rmse:0.84032#011validation-rmse:3.10246\u001b[0m\n",
      "\u001b[34m[29]#011train-rmse:0.81907#011validation-rmse:3.10371\u001b[0m\n",
      "\u001b[34m[30]#011train-rmse:0.80918#011validation-rmse:3.10923\u001b[0m\n",
      "\u001b[34m[31]#011train-rmse:0.77923#011validation-rmse:3.12696\u001b[0m\n",
      "\u001b[34m[32]#011train-rmse:0.76196#011validation-rmse:3.11659\u001b[0m\n",
      "\u001b[34m[33]#011train-rmse:0.73876#011validation-rmse:3.12993\u001b[0m\n",
      "\u001b[34m[34]#011train-rmse:0.72630#011validation-rmse:3.12816\u001b[0m\n",
      "\u001b[34m[35]#011train-rmse:0.70050#011validation-rmse:3.12267\u001b[0m\n",
      "\u001b[34m[36]#011train-rmse:0.68632#011validation-rmse:3.12215\u001b[0m\n",
      "\u001b[34m[37]#011train-rmse:0.64114#011validation-rmse:3.12489\u001b[0m\n",
      "\u001b[34m[38]#011train-rmse:0.62417#011validation-rmse:3.12500\u001b[0m\n",
      "\u001b[34m[39]#011train-rmse:0.61146#011validation-rmse:3.11848\u001b[0m\n",
      "\u001b[34m[40]#011train-rmse:0.59397#011validation-rmse:3.10384\u001b[0m\n",
      "\u001b[34m[41]#011train-rmse:0.56669#011validation-rmse:3.10755\u001b[0m\n",
      "\u001b[34m[42]#011train-rmse:0.54124#011validation-rmse:3.12102\u001b[0m\n",
      "\u001b[34m[43]#011train-rmse:0.52017#011validation-rmse:3.12375\u001b[0m\n",
      "\u001b[34m[44]#011train-rmse:0.50164#011validation-rmse:3.12074\u001b[0m\n",
      "\u001b[34m[45]#011train-rmse:0.49741#011validation-rmse:3.11523\u001b[0m\n",
      "\u001b[34m[46]#011train-rmse:0.47534#011validation-rmse:3.12921\u001b[0m\n",
      "\u001b[34m[47]#011train-rmse:0.45779#011validation-rmse:3.11844\u001b[0m\n",
      "\u001b[34m[48]#011train-rmse:0.44832#011validation-rmse:3.13564\u001b[0m\n",
      "\u001b[34m[49]#011train-rmse:0.42453#011validation-rmse:3.14621\u001b[0m\n",
      "\u001b[34m[50]#011train-rmse:0.41764#011validation-rmse:3.14208\u001b[0m\n",
      "\u001b[34m[51]#011train-rmse:0.40017#011validation-rmse:3.14088\u001b[0m\n",
      "\u001b[34m[52]#011train-rmse:0.38934#011validation-rmse:3.14398\u001b[0m\n",
      "\u001b[34m[53]#011train-rmse:0.37808#011validation-rmse:3.15411\u001b[0m\n",
      "\u001b[34m[54]#011train-rmse:0.36494#011validation-rmse:3.15839\u001b[0m\n",
      "\u001b[34m[55]#011train-rmse:0.35869#011validation-rmse:3.15659\u001b[0m\n",
      "\u001b[34m[56]#011train-rmse:0.34612#011validation-rmse:3.15769\u001b[0m\n",
      "\u001b[34m[57]#011train-rmse:0.33709#011validation-rmse:3.16431\u001b[0m\n",
      "\u001b[34m[58]#011train-rmse:0.32409#011validation-rmse:3.16221\u001b[0m\n",
      "\u001b[34m[59]#011train-rmse:0.31339#011validation-rmse:3.16222\u001b[0m\n",
      "\u001b[34m[60]#011train-rmse:0.30683#011validation-rmse:3.15995\u001b[0m\n",
      "\u001b[34m[61]#011train-rmse:0.29476#011validation-rmse:3.16209\u001b[0m\n",
      "\u001b[34m[62]#011train-rmse:0.29095#011validation-rmse:3.16131\u001b[0m\n",
      "\u001b[34m[63]#011train-rmse:0.28560#011validation-rmse:3.16709\u001b[0m\n",
      "\u001b[34m[64]#011train-rmse:0.27464#011validation-rmse:3.17107\u001b[0m\n",
      "\u001b[34m[65]#011train-rmse:0.27195#011validation-rmse:3.17054\u001b[0m\n",
      "\u001b[34m[66]#011train-rmse:0.25861#011validation-rmse:3.16381\u001b[0m\n",
      "\u001b[34m[67]#011train-rmse:0.25536#011validation-rmse:3.16576\u001b[0m\n",
      "\u001b[34m[68]#011train-rmse:0.25016#011validation-rmse:3.16312\u001b[0m\n",
      "\u001b[34m[69]#011train-rmse:0.24137#011validation-rmse:3.16130\u001b[0m\n",
      "\u001b[34m[70]#011train-rmse:0.23520#011validation-rmse:3.16237\u001b[0m\n",
      "\u001b[34m[71]#011train-rmse:0.23320#011validation-rmse:3.16080\u001b[0m\n",
      "\u001b[34m[72]#011train-rmse:0.22390#011validation-rmse:3.16258\u001b[0m\n",
      "\u001b[34m[73]#011train-rmse:0.22224#011validation-rmse:3.16252\u001b[0m\n",
      "\u001b[34m[74]#011train-rmse:0.21679#011validation-rmse:3.16331\u001b[0m\n",
      "\u001b[34m[75]#011train-rmse:0.21082#011validation-rmse:3.16185\u001b[0m\n",
      "\u001b[34m[76]#011train-rmse:0.20571#011validation-rmse:3.15909\u001b[0m\n",
      "\u001b[34m[77]#011train-rmse:0.20351#011validation-rmse:3.15992\u001b[0m\n",
      "\u001b[34m[78]#011train-rmse:0.19961#011validation-rmse:3.16022\u001b[0m\n",
      "\u001b[34m[79]#011train-rmse:0.19540#011validation-rmse:3.16135\u001b[0m\n",
      "\u001b[34m[80]#011train-rmse:0.18975#011validation-rmse:3.16040\u001b[0m\n",
      "\u001b[34m[81]#011train-rmse:0.18831#011validation-rmse:3.15999\u001b[0m\n",
      "\u001b[34m[82]#011train-rmse:0.17835#011validation-rmse:3.16013\u001b[0m\n",
      "\u001b[34m[83]#011train-rmse:0.17376#011validation-rmse:3.16313\u001b[0m\n",
      "\u001b[34m[84]#011train-rmse:0.16715#011validation-rmse:3.15924\u001b[0m\n",
      "\u001b[34m[85]#011train-rmse:0.16294#011validation-rmse:3.16064\u001b[0m\n",
      "\u001b[34m[86]#011train-rmse:0.15662#011validation-rmse:3.16183\u001b[0m\n",
      "\u001b[34m[87]#011train-rmse:0.15218#011validation-rmse:3.16279\u001b[0m\n",
      "\u001b[34m[88]#011train-rmse:0.14824#011validation-rmse:3.16391\u001b[0m\n",
      "\u001b[34m[89]#011train-rmse:0.14111#011validation-rmse:3.16536\u001b[0m\n",
      "\u001b[34m[90]#011train-rmse:0.13781#011validation-rmse:3.16606\u001b[0m\n",
      "\u001b[34m[91]#011train-rmse:0.13446#011validation-rmse:3.16952\u001b[0m\n",
      "\u001b[34m[92]#011train-rmse:0.13071#011validation-rmse:3.16804\u001b[0m\n",
      "\u001b[34m[93]#011train-rmse:0.12937#011validation-rmse:3.16933\u001b[0m\n",
      "\u001b[34m[94]#011train-rmse:0.12796#011validation-rmse:3.16851\u001b[0m\n",
      "\u001b[34m[95]#011train-rmse:0.12585#011validation-rmse:3.16872\u001b[0m\n",
      "\u001b[34m[96]#011train-rmse:0.12353#011validation-rmse:3.16763\u001b[0m\n",
      "\u001b[34m[97]#011train-rmse:0.11902#011validation-rmse:3.16940\u001b[0m\n",
      "\u001b[34m[98]#011train-rmse:0.11545#011validation-rmse:3.16828\u001b[0m\n",
      "\u001b[34m[99]#011train-rmse:0.11281#011validation-rmse:3.16915\u001b[0m\n",
      "\n",
      "2023-12-12 10:10:31 Uploading - Uploading generated training model\n",
      "2023-12-12 10:10:31 Completed - Training job completed\n",
      "Training seconds: 118\n",
      "Billable seconds: 118\n"
     ]
    }
   ],
   "source": [
    "xgb_estimator.fit(xgb_data)"
   ]
  },
  {
   "cell_type": "code",
   "execution_count": 45,
   "metadata": {},
   "outputs": [
    {
     "name": "stdout",
     "output_type": "stream",
     "text": [
      "2023-12-12 10:04:19          0 boston-housing/output/sagemaker-xgboost-2023-12-12-10-00-38-436/debug-output/claim.smd\n",
      "2023-12-12 10:04:19       6276 boston-housing/output/sagemaker-xgboost-2023-12-12-10-00-38-436/debug-output/collections/000000000/worker_0_collections.json\n",
      "2023-12-12 10:04:19        218 boston-housing/output/sagemaker-xgboost-2023-12-12-10-00-38-436/debug-output/events/000000000000/000000000000_worker_0.tfevents\n",
      "2023-12-12 10:04:19        224 boston-housing/output/sagemaker-xgboost-2023-12-12-10-00-38-436/debug-output/events/000000000010/000000000010_worker_0.tfevents\n",
      "2023-12-12 10:04:19        224 boston-housing/output/sagemaker-xgboost-2023-12-12-10-00-38-436/debug-output/events/000000000020/000000000020_worker_0.tfevents\n",
      "2023-12-12 10:04:19        224 boston-housing/output/sagemaker-xgboost-2023-12-12-10-00-38-436/debug-output/events/000000000030/000000000030_worker_0.tfevents\n",
      "2023-12-12 10:04:19        224 boston-housing/output/sagemaker-xgboost-2023-12-12-10-00-38-436/debug-output/events/000000000040/000000000040_worker_0.tfevents\n",
      "2023-12-12 10:04:19        224 boston-housing/output/sagemaker-xgboost-2023-12-12-10-00-38-436/debug-output/events/000000000050/000000000050_worker_0.tfevents\n",
      "2023-12-12 10:04:19        224 boston-housing/output/sagemaker-xgboost-2023-12-12-10-00-38-436/debug-output/events/000000000060/000000000060_worker_0.tfevents\n",
      "2023-12-12 10:04:19        224 boston-housing/output/sagemaker-xgboost-2023-12-12-10-00-38-436/debug-output/events/000000000070/000000000070_worker_0.tfevents\n",
      "2023-12-12 10:04:19        224 boston-housing/output/sagemaker-xgboost-2023-12-12-10-00-38-436/debug-output/events/000000000080/000000000080_worker_0.tfevents\n",
      "2023-12-12 10:04:19        224 boston-housing/output/sagemaker-xgboost-2023-12-12-10-00-38-436/debug-output/events/000000000090/000000000090_worker_0.tfevents\n",
      "2023-12-12 10:04:19        287 boston-housing/output/sagemaker-xgboost-2023-12-12-10-00-38-436/debug-output/index/000000000/000000000000_worker_0.json\n",
      "2023-12-12 10:04:19        288 boston-housing/output/sagemaker-xgboost-2023-12-12-10-00-38-436/debug-output/index/000000000/000000000010_worker_0.json\n",
      "2023-12-12 10:04:19        288 boston-housing/output/sagemaker-xgboost-2023-12-12-10-00-38-436/debug-output/index/000000000/000000000020_worker_0.json\n",
      "2023-12-12 10:04:19        288 boston-housing/output/sagemaker-xgboost-2023-12-12-10-00-38-436/debug-output/index/000000000/000000000030_worker_0.json\n",
      "2023-12-12 10:04:19        288 boston-housing/output/sagemaker-xgboost-2023-12-12-10-00-38-436/debug-output/index/000000000/000000000040_worker_0.json\n",
      "2023-12-12 10:04:19        288 boston-housing/output/sagemaker-xgboost-2023-12-12-10-00-38-436/debug-output/index/000000000/000000000050_worker_0.json\n",
      "2023-12-12 10:04:19        288 boston-housing/output/sagemaker-xgboost-2023-12-12-10-00-38-436/debug-output/index/000000000/000000000060_worker_0.json\n",
      "2023-12-12 10:04:19        288 boston-housing/output/sagemaker-xgboost-2023-12-12-10-00-38-436/debug-output/index/000000000/000000000070_worker_0.json\n",
      "2023-12-12 10:04:19        288 boston-housing/output/sagemaker-xgboost-2023-12-12-10-00-38-436/debug-output/index/000000000/000000000080_worker_0.json\n",
      "2023-12-12 10:04:19        288 boston-housing/output/sagemaker-xgboost-2023-12-12-10-00-38-436/debug-output/index/000000000/000000000090_worker_0.json\n",
      "2023-12-12 10:04:33          0 boston-housing/output/sagemaker-xgboost-2023-12-12-10-00-38-436/debug-output/training_job_end.ts\n",
      "2023-12-12 10:04:32      99423 boston-housing/output/sagemaker-xgboost-2023-12-12-10-00-38-436/output/model.tar.gz\n",
      "2023-12-12 10:04:33          0 boston-housing/output/sagemaker-xgboost-2023-12-12-10-00-38-436/profiler-output/framework/training_job_end.ts\n",
      "2023-12-12 10:04:01      60876 boston-housing/output/sagemaker-xgboost-2023-12-12-10-00-38-436/profiler-output/system/incremental/2023121210/1702375320.algo-1.json\n",
      "2023-12-12 10:04:00     242160 boston-housing/output/sagemaker-xgboost-2023-12-12-10-00-38-436/profiler-output/system/incremental/2023121210/1702375380.algo-1.json\n",
      "2023-12-12 10:04:29     112913 boston-housing/output/sagemaker-xgboost-2023-12-12-10-00-38-436/profiler-output/system/incremental/2023121210/1702375440.algo-1.json\n",
      "2023-12-12 10:04:33          0 boston-housing/output/sagemaker-xgboost-2023-12-12-10-00-38-436/profiler-output/system/training_job_end.ts\n",
      "2023-12-12 10:10:14          0 boston-housing/output/sagemaker-xgboost-2023-12-12-10-06-34-974/debug-output/claim.smd\n",
      "2023-12-12 10:10:14       6276 boston-housing/output/sagemaker-xgboost-2023-12-12-10-06-34-974/debug-output/collections/000000000/worker_0_collections.json\n",
      "2023-12-12 10:10:14        218 boston-housing/output/sagemaker-xgboost-2023-12-12-10-06-34-974/debug-output/events/000000000000/000000000000_worker_0.tfevents\n",
      "2023-12-12 10:10:14        224 boston-housing/output/sagemaker-xgboost-2023-12-12-10-06-34-974/debug-output/events/000000000010/000000000010_worker_0.tfevents\n",
      "2023-12-12 10:10:14        224 boston-housing/output/sagemaker-xgboost-2023-12-12-10-06-34-974/debug-output/events/000000000020/000000000020_worker_0.tfevents\n",
      "2023-12-12 10:10:14        224 boston-housing/output/sagemaker-xgboost-2023-12-12-10-06-34-974/debug-output/events/000000000030/000000000030_worker_0.tfevents\n",
      "2023-12-12 10:10:14        224 boston-housing/output/sagemaker-xgboost-2023-12-12-10-06-34-974/debug-output/events/000000000040/000000000040_worker_0.tfevents\n",
      "2023-12-12 10:10:14        224 boston-housing/output/sagemaker-xgboost-2023-12-12-10-06-34-974/debug-output/events/000000000050/000000000050_worker_0.tfevents\n",
      "2023-12-12 10:10:14        224 boston-housing/output/sagemaker-xgboost-2023-12-12-10-06-34-974/debug-output/events/000000000060/000000000060_worker_0.tfevents\n",
      "2023-12-12 10:10:14        224 boston-housing/output/sagemaker-xgboost-2023-12-12-10-06-34-974/debug-output/events/000000000070/000000000070_worker_0.tfevents\n",
      "2023-12-12 10:10:14        224 boston-housing/output/sagemaker-xgboost-2023-12-12-10-06-34-974/debug-output/events/000000000080/000000000080_worker_0.tfevents\n",
      "2023-12-12 10:10:14        224 boston-housing/output/sagemaker-xgboost-2023-12-12-10-06-34-974/debug-output/events/000000000090/000000000090_worker_0.tfevents\n",
      "2023-12-12 10:10:14        287 boston-housing/output/sagemaker-xgboost-2023-12-12-10-06-34-974/debug-output/index/000000000/000000000000_worker_0.json\n",
      "2023-12-12 10:10:14        288 boston-housing/output/sagemaker-xgboost-2023-12-12-10-06-34-974/debug-output/index/000000000/000000000010_worker_0.json\n",
      "2023-12-12 10:10:14        288 boston-housing/output/sagemaker-xgboost-2023-12-12-10-06-34-974/debug-output/index/000000000/000000000020_worker_0.json\n",
      "2023-12-12 10:10:14        288 boston-housing/output/sagemaker-xgboost-2023-12-12-10-06-34-974/debug-output/index/000000000/000000000030_worker_0.json\n",
      "2023-12-12 10:10:14        288 boston-housing/output/sagemaker-xgboost-2023-12-12-10-06-34-974/debug-output/index/000000000/000000000040_worker_0.json\n",
      "2023-12-12 10:10:14        288 boston-housing/output/sagemaker-xgboost-2023-12-12-10-06-34-974/debug-output/index/000000000/000000000050_worker_0.json\n",
      "2023-12-12 10:10:14        288 boston-housing/output/sagemaker-xgboost-2023-12-12-10-06-34-974/debug-output/index/000000000/000000000060_worker_0.json\n",
      "2023-12-12 10:10:14        288 boston-housing/output/sagemaker-xgboost-2023-12-12-10-06-34-974/debug-output/index/000000000/000000000070_worker_0.json\n",
      "2023-12-12 10:10:14        288 boston-housing/output/sagemaker-xgboost-2023-12-12-10-06-34-974/debug-output/index/000000000/000000000080_worker_0.json\n",
      "2023-12-12 10:10:14        288 boston-housing/output/sagemaker-xgboost-2023-12-12-10-06-34-974/debug-output/index/000000000/000000000090_worker_0.json\n",
      "2023-12-12 10:10:29          0 boston-housing/output/sagemaker-xgboost-2023-12-12-10-06-34-974/debug-output/training_job_end.ts\n",
      "2023-12-12 10:10:28      66025 boston-housing/output/sagemaker-xgboost-2023-12-12-10-06-34-974/output/model.tar.gz\n",
      "2023-12-12 10:10:29          0 boston-housing/output/sagemaker-xgboost-2023-12-12-10-06-34-974/profiler-output/framework/training_job_end.ts\n",
      "2023-12-12 10:10:01      89167 boston-housing/output/sagemaker-xgboost-2023-12-12-10-06-34-974/profiler-output/system/incremental/2023121210/1702375680.algo-1.json\n",
      "2023-12-12 10:10:00     242416 boston-housing/output/sagemaker-xgboost-2023-12-12-10-06-34-974/profiler-output/system/incremental/2023121210/1702375740.algo-1.json\n",
      "2023-12-12 10:10:24      96952 boston-housing/output/sagemaker-xgboost-2023-12-12-10-06-34-974/profiler-output/system/incremental/2023121210/1702375800.algo-1.json\n",
      "2023-12-12 10:10:29          0 boston-housing/output/sagemaker-xgboost-2023-12-12-10-06-34-974/profiler-output/system/training_job_end.ts\n"
     ]
    }
   ],
   "source": [
    "%%bash -s \"$xgb_estimator.output_path\"\n",
    "aws s3 ls --recursive $1"
   ]
  },
  {
   "cell_type": "code",
   "execution_count": 46,
   "metadata": {},
   "outputs": [
    {
     "name": "stdout",
     "output_type": "stream",
     "text": [
      "xgb-demo-12-10-10-55\n"
     ]
    }
   ],
   "source": [
    "from time import strftime, gmtime\n",
    "timestamp = strftime('%d-%H-%M-%S', gmtime())\n",
    "\n",
    "endpoint_name = 'xgb-demo-'+timestamp\n",
    "print(endpoint_name)"
   ]
  },
  {
   "cell_type": "code",
   "execution_count": 47,
   "metadata": {},
   "outputs": [
    {
     "name": "stderr",
     "output_type": "stream",
     "text": [
      "INFO:sagemaker:Creating model with name: sagemaker-xgboost-2023-12-12-10-10-57-237\n",
      "INFO:sagemaker:Creating endpoint-config with name xgb-demo-12-10-10-55\n",
      "INFO:sagemaker:Creating endpoint with name xgb-demo-12-10-10-55\n"
     ]
    },
    {
     "name": "stdout",
     "output_type": "stream",
     "text": [
      "--------!"
     ]
    }
   ],
   "source": [
    "xgb_predictor = xgb_estimator.deploy(endpoint_name=endpoint_name, \n",
    "                        initial_instance_count=1, \n",
    "                        instance_type='ml.m4.xlarge')"
   ]
  },
  {
   "cell_type": "code",
   "execution_count": 48,
   "metadata": {},
   "outputs": [],
   "source": [
    "test_sample = '0.00632,18.00,2.310,0,0.5380,6.5750,65.20,4.0900,1,296.0,15.30,4.98'"
   ]
  },
  {
   "cell_type": "code",
   "execution_count": 49,
   "metadata": {},
   "outputs": [
    {
     "name": "stdout",
     "output_type": "stream",
     "text": [
      "[['24.018329620361328']]\n"
     ]
    }
   ],
   "source": [
    "#XGB_predictor.content_type = 'text/csv'\n",
    "xgb_predictor.serializer = sagemaker.serializers.CSVSerializer()\n",
    "xgb_predictor.deserializer = sagemaker.deserializers.CSVDeserializer()\n",
    "\n",
    "response =xgb_predictor.predict(test_sample)\n",
    "print(response)"
   ]
  },
  {
   "cell_type": "code",
   "execution_count": 51,
   "metadata": {},
   "outputs": [
    {
     "name": "stdout",
     "output_type": "stream",
     "text": [
      "[['24.018329620361328']]\n",
      "xgb-demo-12-10-10-55\n"
     ]
    }
   ],
   "source": [
    "xgb_estimatoramples = ['0.00632,18.00,2.310,0,0.5380,6.5750,65.20,4.0900,1,296.0,15.30,4.98',\n",
    "                '0.02731,0.00,7.070,0,0.4690,6.4210,78.90,4.9671,2,242.0,17.80,9.14']\n",
    "\n",
    "response = xgb_predictor.predict(test_sample)\n",
    "print(response)\n",
    "print(xgb_predictor.endpoint_name)"
   ]
  },
  {
   "cell_type": "code",
   "execution_count": 52,
   "metadata": {},
   "outputs": [
    {
     "name": "stderr",
     "output_type": "stream",
     "text": [
      "INFO:botocore.credentials:Found credentials from IAM Role: BaseNotebookInstanceEc2InstanceRole\n"
     ]
    },
    {
     "name": "stdout",
     "output_type": "stream",
     "text": [
      "b'24.018329620361328'\n"
     ]
    }
   ],
   "source": [
    "runtime = boto3.Session().client(service_name='runtime.sagemaker') \n",
    "\n",
    "response = runtime.invoke_endpoint(EndpointName=endpoint_name, \n",
    "                                  ContentType='text/csv', \n",
    "                                  Body=test_sample)\n",
    "\n",
    "print(response['Body'].read())"
   ]
  },
  {
   "cell_type": "code",
   "execution_count": 53,
   "metadata": {},
   "outputs": [
    {
     "name": "stderr",
     "output_type": "stream",
     "text": [
      "INFO:sagemaker:Deleting endpoint configuration with name: xgb-demo-12-10-10-55\n",
      "INFO:sagemaker:Deleting endpoint with name: xgb-demo-12-10-10-55\n"
     ]
    }
   ],
   "source": [
    "xgb_predictor.delete_endpoint()"
   ]
  },
  {
   "cell_type": "code",
   "execution_count": null,
   "metadata": {},
   "outputs": [],
   "source": []
  },
  {
   "cell_type": "code",
   "execution_count": null,
   "metadata": {},
   "outputs": [],
   "source": []
  }
 ],
 "metadata": {
  "kernelspec": {
   "display_name": "conda_python3",
   "language": "python",
   "name": "conda_python3"
  },
  "language_info": {
   "codemirror_mode": {
    "name": "ipython",
    "version": 3
   },
   "file_extension": ".py",
   "mimetype": "text/x-python",
   "name": "python",
   "nbconvert_exporter": "python",
   "pygments_lexer": "ipython3",
   "version": "3.10.13"
  }
 },
 "nbformat": 4,
 "nbformat_minor": 4
}
