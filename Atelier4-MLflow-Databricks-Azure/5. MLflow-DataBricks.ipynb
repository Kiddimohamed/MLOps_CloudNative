{
 "cells": [
  {
   "cell_type": "code",
   "execution_count": 11,
   "metadata": {
    "application/vnd.databricks.v1+cell": {
     "inputWidgets": {},
     "nuid": "84bc428f-76af-43b0-ba5b-b9be37959a3b",
     "showTitle": false,
     "title": ""
    },
    "ExecuteTime": {
     "end_time": "2024-01-05T18:38:09.631616418Z",
     "start_time": "2024-01-05T18:38:09.622888119Z"
    }
   },
   "outputs": [],
   "source": [
    "import numpy as np\n",
    "import pandas as pd\n",
    "import matplotlib #\n",
    "import matplotlib.pyplot as plt\n",
    "import seaborn as sns\n",
    "import sklearn #\n",
    "import spark\n",
    "from sklearn.linear_model import LogisticRegression\n",
    "from sklearn.model_selection import train_test_split\n",
    "from sklearn.preprocessing import StandardScaler\n",
    "from sklearn.metrics import roc_auc_score, plot_roc_curve,confusion_matrix\n",
    "from sklearn.model_selection import KFold\n",
    "import mlflow"
   ]
  },
  {
   "cell_type": "code",
   "execution_count": 12,
   "metadata": {
    "application/vnd.databricks.v1+cell": {
     "inputWidgets": {},
     "nuid": "f91905a6-9af4-4cbd-bb6b-513e93b56016",
     "showTitle": false,
     "title": ""
    },
    "ExecuteTime": {
     "end_time": "2024-01-05T18:38:27.002060254Z",
     "start_time": "2024-01-05T18:38:11.711978849Z"
    }
   },
   "outputs": [
    {
     "name": "stdout",
     "output_type": "stream",
     "text": [
      "Defaulting to user installation because normal site-packages is not writeable\r\n",
      "Collecting mlflow==1.20.2\r\n",
      "  Downloading mlflow-1.20.2-py3-none-any.whl (14.6 MB)\r\n",
      "\u001B[2K     \u001B[90m━━━━━━━━━━━━━━━━━━━━━━━━━━━━━━━━━━━━━━━━\u001B[0m \u001B[32m14.6/14.6 MB\u001B[0m \u001B[31m10.8 MB/s\u001B[0m eta \u001B[36m0:00:00\u001B[0m00:01\u001B[0m00:01\u001B[0m\r\n",
      "\u001B[?25hRequirement already satisfied: querystring-parser in /home/kiddi/.local/lib/python3.10/site-packages (from mlflow==1.20.2) (1.2.4)\r\n",
      "Requirement already satisfied: docker>=4.0.0 in /home/kiddi/.local/lib/python3.10/site-packages (from mlflow==1.20.2) (6.1.3)\r\n",
      "Collecting prometheus-flask-exporter\r\n",
      "  Downloading prometheus_flask_exporter-0.23.0-py3-none-any.whl (18 kB)\r\n",
      "Requirement already satisfied: pyyaml>=5.1 in /usr/lib/python3/dist-packages (from mlflow==1.20.2) (5.4.1)\r\n",
      "Requirement already satisfied: databricks-cli>=0.8.7 in /home/kiddi/.local/lib/python3.10/site-packages (from mlflow==1.20.2) (0.18.0)\r\n",
      "Requirement already satisfied: sqlalchemy in /home/kiddi/.local/lib/python3.10/site-packages (from mlflow==1.20.2) (2.0.23)\r\n",
      "Requirement already satisfied: protobuf>=3.7.0 in /home/kiddi/.local/lib/python3.10/site-packages (from mlflow==1.20.2) (4.23.4)\r\n",
      "Requirement already satisfied: requests>=2.17.3 in /home/kiddi/.local/lib/python3.10/site-packages (from mlflow==1.20.2) (2.31.0)\r\n",
      "Requirement already satisfied: sqlparse>=0.3.1 in /home/kiddi/.local/lib/python3.10/site-packages (from mlflow==1.20.2) (0.4.4)\r\n",
      "Requirement already satisfied: gitpython>=2.1.0 in /home/kiddi/.local/lib/python3.10/site-packages (from mlflow==1.20.2) (3.1.40)\r\n",
      "Collecting alembic<=1.4.1\r\n",
      "  Downloading alembic-1.4.1.tar.gz (1.1 MB)\r\n",
      "\u001B[2K     \u001B[90m━━━━━━━━━━━━━━━━━━━━━━━━━━━━━━━━━━━━━━━━\u001B[0m \u001B[32m1.1/1.1 MB\u001B[0m \u001B[31m14.4 MB/s\u001B[0m eta \u001B[36m0:00:00\u001B[0m00:01\u001B[0m00:01\u001B[0m\r\n",
      "\u001B[?25h  Preparing metadata (setup.py) ... \u001B[?25ldone\r\n",
      "\u001B[?25hRequirement already satisfied: cloudpickle in /home/kiddi/.local/lib/python3.10/site-packages (from mlflow==1.20.2) (2.2.1)\r\n",
      "Requirement already satisfied: pytz in /usr/lib/python3/dist-packages (from mlflow==1.20.2) (2022.1)\r\n",
      "Requirement already satisfied: Flask in /home/kiddi/.local/lib/python3.10/site-packages (from mlflow==1.20.2) (3.0.0)\r\n",
      "Requirement already satisfied: numpy in /home/kiddi/.local/lib/python3.10/site-packages (from mlflow==1.20.2) (1.23.5)\r\n",
      "Requirement already satisfied: pandas in /home/kiddi/.local/lib/python3.10/site-packages (from mlflow==1.20.2) (2.1.2)\r\n",
      "Requirement already satisfied: packaging in /usr/lib/python3/dist-packages (from mlflow==1.20.2) (21.3)\r\n",
      "Requirement already satisfied: gunicorn in /home/kiddi/.local/lib/python3.10/site-packages (from mlflow==1.20.2) (21.2.0)\r\n",
      "Requirement already satisfied: importlib-metadata!=4.7.0,>=3.7.0 in /usr/lib/python3/dist-packages (from mlflow==1.20.2) (4.6.4)\r\n",
      "Requirement already satisfied: entrypoints in /usr/lib/python3/dist-packages (from mlflow==1.20.2) (0.4)\r\n",
      "Requirement already satisfied: click>=7.0 in /home/kiddi/.local/lib/python3.10/site-packages (from mlflow==1.20.2) (8.1.7)\r\n",
      "Requirement already satisfied: Mako in /usr/lib/python3/dist-packages (from alembic<=1.4.1->mlflow==1.20.2) (1.1.3)\r\n",
      "Requirement already satisfied: python-dateutil in /home/kiddi/.local/lib/python3.10/site-packages (from alembic<=1.4.1->mlflow==1.20.2) (2.8.2)\r\n",
      "Collecting python-editor>=0.3\r\n",
      "  Downloading python_editor-1.0.4-py3-none-any.whl (4.9 kB)\r\n",
      "Requirement already satisfied: tabulate>=0.7.7 in /home/kiddi/.local/lib/python3.10/site-packages (from databricks-cli>=0.8.7->mlflow==1.20.2) (0.9.0)\r\n",
      "Requirement already satisfied: pyjwt>=1.7.0 in /usr/lib/python3/dist-packages (from databricks-cli>=0.8.7->mlflow==1.20.2) (2.3.0)\r\n",
      "Requirement already satisfied: oauthlib>=3.1.0 in /usr/lib/python3/dist-packages (from databricks-cli>=0.8.7->mlflow==1.20.2) (3.2.0)\r\n",
      "Requirement already satisfied: urllib3<3,>=1.26.7 in /home/kiddi/.local/lib/python3.10/site-packages (from databricks-cli>=0.8.7->mlflow==1.20.2) (2.1.0)\r\n",
      "Requirement already satisfied: six>=1.10.0 in /usr/lib/python3/dist-packages (from databricks-cli>=0.8.7->mlflow==1.20.2) (1.16.0)\r\n",
      "Requirement already satisfied: websocket-client>=0.32.0 in /home/kiddi/.local/lib/python3.10/site-packages (from docker>=4.0.0->mlflow==1.20.2) (1.6.4)\r\n",
      "Requirement already satisfied: gitdb<5,>=4.0.1 in /home/kiddi/.local/lib/python3.10/site-packages (from gitpython>=2.1.0->mlflow==1.20.2) (4.0.11)\r\n",
      "Requirement already satisfied: idna<4,>=2.5 in /usr/lib/python3/dist-packages (from requests>=2.17.3->mlflow==1.20.2) (3.3)\r\n",
      "Requirement already satisfied: charset-normalizer<4,>=2 in /home/kiddi/.local/lib/python3.10/site-packages (from requests>=2.17.3->mlflow==1.20.2) (3.3.2)\r\n",
      "Requirement already satisfied: certifi>=2017.4.17 in /usr/lib/python3/dist-packages (from requests>=2.17.3->mlflow==1.20.2) (2020.6.20)\r\n",
      "Requirement already satisfied: greenlet!=0.4.17 in /home/kiddi/.local/lib/python3.10/site-packages (from sqlalchemy->mlflow==1.20.2) (3.0.1)\r\n",
      "Requirement already satisfied: typing-extensions>=4.2.0 in /home/kiddi/.local/lib/python3.10/site-packages (from sqlalchemy->mlflow==1.20.2) (4.8.0)\r\n",
      "Requirement already satisfied: blinker>=1.6.2 in /home/kiddi/.local/lib/python3.10/site-packages (from Flask->mlflow==1.20.2) (1.7.0)\r\n",
      "Requirement already satisfied: itsdangerous>=2.1.2 in /home/kiddi/.local/lib/python3.10/site-packages (from Flask->mlflow==1.20.2) (2.1.2)\r\n",
      "Requirement already satisfied: Jinja2>=3.1.2 in /home/kiddi/.local/lib/python3.10/site-packages (from Flask->mlflow==1.20.2) (3.1.2)\r\n",
      "Requirement already satisfied: Werkzeug>=3.0.0 in /home/kiddi/.local/lib/python3.10/site-packages (from Flask->mlflow==1.20.2) (3.0.1)\r\n",
      "Requirement already satisfied: tzdata>=2022.1 in /home/kiddi/.local/lib/python3.10/site-packages (from pandas->mlflow==1.20.2) (2023.3)\r\n",
      "Requirement already satisfied: prometheus-client in /usr/lib/python3/dist-packages (from prometheus-flask-exporter->mlflow==1.20.2) (0.9.0)\r\n",
      "Requirement already satisfied: smmap<6,>=3.0.1 in /home/kiddi/.local/lib/python3.10/site-packages (from gitdb<5,>=4.0.1->gitpython>=2.1.0->mlflow==1.20.2) (5.0.1)\r\n",
      "Requirement already satisfied: MarkupSafe>=2.0 in /home/kiddi/.local/lib/python3.10/site-packages (from Jinja2>=3.1.2->Flask->mlflow==1.20.2) (2.1.3)\r\n",
      "Building wheels for collected packages: alembic\r\n",
      "  Building wheel for alembic (setup.py) ... \u001B[?25ldone\r\n",
      "\u001B[?25h  Created wheel for alembic: filename=alembic-1.4.1-py2.py3-none-any.whl size=158173 sha256=28c9396b2c12557f49f24b03c8c23570730f370263992e71f4fc40b6ced7d275\r\n",
      "  Stored in directory: /home/kiddi/.cache/pip/wheels/30/4c/2b/81778ffc8c43f01f8ffb2c8c9cd8b3989dd13213f492152ac6\r\n",
      "Successfully built alembic\r\n",
      "Installing collected packages: python-editor, alembic, prometheus-flask-exporter, mlflow\r\n",
      "  Attempting uninstall: alembic\r\n",
      "    Found existing installation: alembic 1.12.1\r\n",
      "    Uninstalling alembic-1.12.1:\r\n",
      "      Successfully uninstalled alembic-1.12.1\r\n",
      "  Attempting uninstall: mlflow\r\n",
      "    Found existing installation: mlflow 2.8.1\r\n",
      "    Uninstalling mlflow-2.8.1:\r\n",
      "      Successfully uninstalled mlflow-2.8.1\r\n",
      "Successfully installed alembic-1.4.1 mlflow-1.20.2 prometheus-flask-exporter-0.23.0 python-editor-1.0.4\r\n"
     ]
    }
   ],
   "source": [
    "!pip install mlflow==1.20.2"
   ]
  },
  {
   "cell_type": "code",
   "execution_count": 13,
   "metadata": {
    "application/vnd.databricks.v1+cell": {
     "inputWidgets": {},
     "nuid": "654aec93-f936-4345-a75a-c072281a3029",
     "showTitle": false,
     "title": ""
    },
    "ExecuteTime": {
     "end_time": "2024-01-05T18:38:43.571556488Z",
     "start_time": "2024-01-05T18:38:43.521561146Z"
    }
   },
   "outputs": [
    {
     "ename": "AttributeError",
     "evalue": "module 'spark' has no attribute 'read'",
     "output_type": "error",
     "traceback": [
      "\u001B[0;31m---------------------------------------------------------------------------\u001B[0m",
      "\u001B[0;31mAttributeError\u001B[0m                            Traceback (most recent call last)",
      "\u001B[0;32m/tmp/ipykernel_4054/3343242453.py\u001B[0m in \u001B[0;36m<module>\u001B[0;34m\u001B[0m\n\u001B[1;32m      9\u001B[0m \u001B[0;34m\u001B[0m\u001B[0m\n\u001B[1;32m     10\u001B[0m \u001B[0;31m# The applied options are for CSV files. For other file types, these will be ignored.\u001B[0m\u001B[0;34m\u001B[0m\u001B[0;34m\u001B[0m\u001B[0m\n\u001B[0;32m---> 11\u001B[0;31m \u001B[0mdataframe\u001B[0m \u001B[0;34m=\u001B[0m \u001B[0mspark\u001B[0m\u001B[0;34m.\u001B[0m\u001B[0mread\u001B[0m\u001B[0;34m.\u001B[0m\u001B[0mformat\u001B[0m\u001B[0;34m(\u001B[0m\u001B[0mfile_type\u001B[0m\u001B[0;34m)\u001B[0m\u001B[0;31m \u001B[0m\u001B[0;31m\\\u001B[0m\u001B[0;34m\u001B[0m\u001B[0;34m\u001B[0m\u001B[0m\n\u001B[0m\u001B[1;32m     12\u001B[0m   \u001B[0;34m.\u001B[0m\u001B[0moption\u001B[0m\u001B[0;34m(\u001B[0m\u001B[0;34m\"inferSchema\"\u001B[0m\u001B[0;34m,\u001B[0m \u001B[0minfer_schema\u001B[0m\u001B[0;34m)\u001B[0m\u001B[0;31m \u001B[0m\u001B[0;31m\\\u001B[0m\u001B[0;34m\u001B[0m\u001B[0;34m\u001B[0m\u001B[0m\n\u001B[1;32m     13\u001B[0m   \u001B[0;34m.\u001B[0m\u001B[0moption\u001B[0m\u001B[0;34m(\u001B[0m\u001B[0;34m\"header\"\u001B[0m\u001B[0;34m,\u001B[0m \u001B[0mfirst_row_is_header\u001B[0m\u001B[0;34m)\u001B[0m\u001B[0;31m \u001B[0m\u001B[0;31m\\\u001B[0m\u001B[0;34m\u001B[0m\u001B[0;34m\u001B[0m\u001B[0m\n",
      "\u001B[0;31mAttributeError\u001B[0m: module 'spark' has no attribute 'read'"
     ]
    }
   ],
   "source": [
    "# File location and type\n",
    "file_location = \"/FileStore/tables/creditcard.csv\"\n",
    "file_type = \"csv\"\n",
    "\n",
    "# CSV options\n",
    "infer_schema = \"true\"\n",
    "first_row_is_header = \"true\"\n",
    "delimiter = \",\"\n",
    "\n",
    "# The applied options are for CSV files. For other file types, these will be ignored.\n",
    "dataframe = spark.read.format(file_type) \\\n",
    "  .option(\"inferSchema\", infer_schema) \\\n",
    "  .option(\"header\", first_row_is_header) \\\n",
    "  .option(\"sep\", delimiter) \\\n",
    "  .load(file_location)\n",
    "\n",
    "df=dataframe.toPandas()"
   ]
  },
  {
   "cell_type": "code",
   "outputs": [
    {
     "name": "stderr",
     "output_type": "stream",
     "text": [
      "JAVA_HOME is not set\n"
     ]
    },
    {
     "ename": "PySparkRuntimeError",
     "evalue": "[JAVA_GATEWAY_EXITED] Java gateway process exited before sending its port number.",
     "output_type": "error",
     "traceback": [
      "\u001B[0;31m---------------------------------------------------------------------------\u001B[0m",
      "\u001B[0;31mPySparkRuntimeError\u001B[0m                       Traceback (most recent call last)",
      "\u001B[0;32m/tmp/ipykernel_4054/510586589.py\u001B[0m in \u001B[0;36m<module>\u001B[0;34m\u001B[0m\n\u001B[1;32m      2\u001B[0m \u001B[0;34m\u001B[0m\u001B[0m\n\u001B[1;32m      3\u001B[0m \u001B[0;31m# Create a Spark session\u001B[0m\u001B[0;34m\u001B[0m\u001B[0;34m\u001B[0m\u001B[0m\n\u001B[0;32m----> 4\u001B[0;31m \u001B[0mspark\u001B[0m \u001B[0;34m=\u001B[0m \u001B[0mSparkSession\u001B[0m\u001B[0;34m.\u001B[0m\u001B[0mbuilder\u001B[0m\u001B[0;34m.\u001B[0m\u001B[0mappName\u001B[0m\u001B[0;34m(\u001B[0m\u001B[0;34m\"YourAppName\"\u001B[0m\u001B[0;34m)\u001B[0m\u001B[0;34m.\u001B[0m\u001B[0mgetOrCreate\u001B[0m\u001B[0;34m(\u001B[0m\u001B[0;34m)\u001B[0m\u001B[0;34m\u001B[0m\u001B[0;34m\u001B[0m\u001B[0m\n\u001B[0m\u001B[1;32m      5\u001B[0m \u001B[0;34m\u001B[0m\u001B[0m\n\u001B[1;32m      6\u001B[0m \u001B[0;31m# File location and type\u001B[0m\u001B[0;34m\u001B[0m\u001B[0;34m\u001B[0m\u001B[0m\n",
      "\u001B[0;32m~/.local/lib/python3.10/site-packages/pyspark/sql/session.py\u001B[0m in \u001B[0;36mgetOrCreate\u001B[0;34m(self)\u001B[0m\n\u001B[1;32m    495\u001B[0m                         \u001B[0msparkConf\u001B[0m\u001B[0;34m.\u001B[0m\u001B[0mset\u001B[0m\u001B[0;34m(\u001B[0m\u001B[0mkey\u001B[0m\u001B[0;34m,\u001B[0m \u001B[0mvalue\u001B[0m\u001B[0;34m)\u001B[0m\u001B[0;34m\u001B[0m\u001B[0;34m\u001B[0m\u001B[0m\n\u001B[1;32m    496\u001B[0m                     \u001B[0;31m# This SparkContext may be an existing one.\u001B[0m\u001B[0;34m\u001B[0m\u001B[0;34m\u001B[0m\u001B[0m\n\u001B[0;32m--> 497\u001B[0;31m                     \u001B[0msc\u001B[0m \u001B[0;34m=\u001B[0m \u001B[0mSparkContext\u001B[0m\u001B[0;34m.\u001B[0m\u001B[0mgetOrCreate\u001B[0m\u001B[0;34m(\u001B[0m\u001B[0msparkConf\u001B[0m\u001B[0;34m)\u001B[0m\u001B[0;34m\u001B[0m\u001B[0;34m\u001B[0m\u001B[0m\n\u001B[0m\u001B[1;32m    498\u001B[0m                     \u001B[0;31m# Do not update `SparkConf` for existing `SparkContext`, as it's shared\u001B[0m\u001B[0;34m\u001B[0m\u001B[0;34m\u001B[0m\u001B[0m\n\u001B[1;32m    499\u001B[0m                     \u001B[0;31m# by all sessions.\u001B[0m\u001B[0;34m\u001B[0m\u001B[0;34m\u001B[0m\u001B[0m\n",
      "\u001B[0;32m~/.local/lib/python3.10/site-packages/pyspark/context.py\u001B[0m in \u001B[0;36mgetOrCreate\u001B[0;34m(cls, conf)\u001B[0m\n\u001B[1;32m    513\u001B[0m         \u001B[0;32mwith\u001B[0m \u001B[0mSparkContext\u001B[0m\u001B[0;34m.\u001B[0m\u001B[0m_lock\u001B[0m\u001B[0;34m:\u001B[0m\u001B[0;34m\u001B[0m\u001B[0;34m\u001B[0m\u001B[0m\n\u001B[1;32m    514\u001B[0m             \u001B[0;32mif\u001B[0m \u001B[0mSparkContext\u001B[0m\u001B[0;34m.\u001B[0m\u001B[0m_active_spark_context\u001B[0m \u001B[0;32mis\u001B[0m \u001B[0;32mNone\u001B[0m\u001B[0;34m:\u001B[0m\u001B[0;34m\u001B[0m\u001B[0;34m\u001B[0m\u001B[0m\n\u001B[0;32m--> 515\u001B[0;31m                 \u001B[0mSparkContext\u001B[0m\u001B[0;34m(\u001B[0m\u001B[0mconf\u001B[0m\u001B[0;34m=\u001B[0m\u001B[0mconf\u001B[0m \u001B[0;32mor\u001B[0m \u001B[0mSparkConf\u001B[0m\u001B[0;34m(\u001B[0m\u001B[0;34m)\u001B[0m\u001B[0;34m)\u001B[0m\u001B[0;34m\u001B[0m\u001B[0;34m\u001B[0m\u001B[0m\n\u001B[0m\u001B[1;32m    516\u001B[0m             \u001B[0;32massert\u001B[0m \u001B[0mSparkContext\u001B[0m\u001B[0;34m.\u001B[0m\u001B[0m_active_spark_context\u001B[0m \u001B[0;32mis\u001B[0m \u001B[0;32mnot\u001B[0m \u001B[0;32mNone\u001B[0m\u001B[0;34m\u001B[0m\u001B[0;34m\u001B[0m\u001B[0m\n\u001B[1;32m    517\u001B[0m             \u001B[0;32mreturn\u001B[0m \u001B[0mSparkContext\u001B[0m\u001B[0;34m.\u001B[0m\u001B[0m_active_spark_context\u001B[0m\u001B[0;34m\u001B[0m\u001B[0;34m\u001B[0m\u001B[0m\n",
      "\u001B[0;32m~/.local/lib/python3.10/site-packages/pyspark/context.py\u001B[0m in \u001B[0;36m__init__\u001B[0;34m(self, master, appName, sparkHome, pyFiles, environment, batchSize, serializer, conf, gateway, jsc, profiler_cls, udf_profiler_cls, memory_profiler_cls)\u001B[0m\n\u001B[1;32m    199\u001B[0m             )\n\u001B[1;32m    200\u001B[0m \u001B[0;34m\u001B[0m\u001B[0m\n\u001B[0;32m--> 201\u001B[0;31m         \u001B[0mSparkContext\u001B[0m\u001B[0;34m.\u001B[0m\u001B[0m_ensure_initialized\u001B[0m\u001B[0;34m(\u001B[0m\u001B[0mself\u001B[0m\u001B[0;34m,\u001B[0m \u001B[0mgateway\u001B[0m\u001B[0;34m=\u001B[0m\u001B[0mgateway\u001B[0m\u001B[0;34m,\u001B[0m \u001B[0mconf\u001B[0m\u001B[0;34m=\u001B[0m\u001B[0mconf\u001B[0m\u001B[0;34m)\u001B[0m\u001B[0;34m\u001B[0m\u001B[0;34m\u001B[0m\u001B[0m\n\u001B[0m\u001B[1;32m    202\u001B[0m         \u001B[0;32mtry\u001B[0m\u001B[0;34m:\u001B[0m\u001B[0;34m\u001B[0m\u001B[0;34m\u001B[0m\u001B[0m\n\u001B[1;32m    203\u001B[0m             self._do_init(\n",
      "\u001B[0;32m~/.local/lib/python3.10/site-packages/pyspark/context.py\u001B[0m in \u001B[0;36m_ensure_initialized\u001B[0;34m(cls, instance, gateway, conf)\u001B[0m\n\u001B[1;32m    434\u001B[0m         \u001B[0;32mwith\u001B[0m \u001B[0mSparkContext\u001B[0m\u001B[0;34m.\u001B[0m\u001B[0m_lock\u001B[0m\u001B[0;34m:\u001B[0m\u001B[0;34m\u001B[0m\u001B[0;34m\u001B[0m\u001B[0m\n\u001B[1;32m    435\u001B[0m             \u001B[0;32mif\u001B[0m \u001B[0;32mnot\u001B[0m \u001B[0mSparkContext\u001B[0m\u001B[0;34m.\u001B[0m\u001B[0m_gateway\u001B[0m\u001B[0;34m:\u001B[0m\u001B[0;34m\u001B[0m\u001B[0;34m\u001B[0m\u001B[0m\n\u001B[0;32m--> 436\u001B[0;31m                 \u001B[0mSparkContext\u001B[0m\u001B[0;34m.\u001B[0m\u001B[0m_gateway\u001B[0m \u001B[0;34m=\u001B[0m \u001B[0mgateway\u001B[0m \u001B[0;32mor\u001B[0m \u001B[0mlaunch_gateway\u001B[0m\u001B[0;34m(\u001B[0m\u001B[0mconf\u001B[0m\u001B[0;34m)\u001B[0m\u001B[0;34m\u001B[0m\u001B[0;34m\u001B[0m\u001B[0m\n\u001B[0m\u001B[1;32m    437\u001B[0m                 \u001B[0mSparkContext\u001B[0m\u001B[0;34m.\u001B[0m\u001B[0m_jvm\u001B[0m \u001B[0;34m=\u001B[0m \u001B[0mSparkContext\u001B[0m\u001B[0;34m.\u001B[0m\u001B[0m_gateway\u001B[0m\u001B[0;34m.\u001B[0m\u001B[0mjvm\u001B[0m\u001B[0;34m\u001B[0m\u001B[0;34m\u001B[0m\u001B[0m\n\u001B[1;32m    438\u001B[0m \u001B[0;34m\u001B[0m\u001B[0m\n",
      "\u001B[0;32m~/.local/lib/python3.10/site-packages/pyspark/java_gateway.py\u001B[0m in \u001B[0;36mlaunch_gateway\u001B[0;34m(conf, popen_kwargs)\u001B[0m\n\u001B[1;32m    105\u001B[0m \u001B[0;34m\u001B[0m\u001B[0m\n\u001B[1;32m    106\u001B[0m             \u001B[0;32mif\u001B[0m \u001B[0;32mnot\u001B[0m \u001B[0mos\u001B[0m\u001B[0;34m.\u001B[0m\u001B[0mpath\u001B[0m\u001B[0;34m.\u001B[0m\u001B[0misfile\u001B[0m\u001B[0;34m(\u001B[0m\u001B[0mconn_info_file\u001B[0m\u001B[0;34m)\u001B[0m\u001B[0;34m:\u001B[0m\u001B[0;34m\u001B[0m\u001B[0;34m\u001B[0m\u001B[0m\n\u001B[0;32m--> 107\u001B[0;31m                 raise PySparkRuntimeError(\n\u001B[0m\u001B[1;32m    108\u001B[0m                     \u001B[0merror_class\u001B[0m\u001B[0;34m=\u001B[0m\u001B[0;34m\"JAVA_GATEWAY_EXITED\"\u001B[0m\u001B[0;34m,\u001B[0m\u001B[0;34m\u001B[0m\u001B[0;34m\u001B[0m\u001B[0m\n\u001B[1;32m    109\u001B[0m                     \u001B[0mmessage_parameters\u001B[0m\u001B[0;34m=\u001B[0m\u001B[0;34m{\u001B[0m\u001B[0;34m}\u001B[0m\u001B[0;34m,\u001B[0m\u001B[0;34m\u001B[0m\u001B[0;34m\u001B[0m\u001B[0m\n",
      "\u001B[0;31mPySparkRuntimeError\u001B[0m: [JAVA_GATEWAY_EXITED] Java gateway process exited before sending its port number."
     ]
    }
   ],
   "source": [
    "from pyspark.sql import SparkSession\n",
    "\n",
    "# Create a Spark session\n",
    "spark = SparkSession.builder.appName(\"YourAppName\").getOrCreate()\n",
    "\n",
    "# File location and type\n",
    "file_location = \"/FileStore/tables/creditcard.csv\"\n",
    "file_type = \"csv\"\n",
    "\n",
    "# CSV options as dictionary\n",
    "csv_options = {\n",
    "    \"inferSchema\": infer_schema,\n",
    "    \"header\": first_row_is_header,\n",
    "    \"sep\": delimiter\n",
    "}\n",
    "\n",
    "# Read data into a Spark DataFrame using options passed as a dictionary\n",
    "dataframe = spark.read.format(file_type).options(**csv_options).load(file_location)"
   ],
   "metadata": {
    "collapsed": false,
    "ExecuteTime": {
     "end_time": "2024-01-05T18:41:41.411586978Z",
     "start_time": "2024-01-05T18:41:41.261260416Z"
    }
   },
   "execution_count": 23
  },
  {
   "cell_type": "code",
   "execution_count": 17,
   "metadata": {
    "application/vnd.databricks.v1+cell": {
     "inputWidgets": {},
     "nuid": "bc637a22-410d-4100-8348-3b5369817534",
     "showTitle": false,
     "title": ""
    },
    "ExecuteTime": {
     "end_time": "2024-01-05T18:40:45.641200146Z",
     "start_time": "2024-01-05T18:40:45.495371713Z"
    }
   },
   "outputs": [
    {
     "ename": "NameError",
     "evalue": "name 'df' is not defined",
     "output_type": "error",
     "traceback": [
      "\u001B[0;31m---------------------------------------------------------------------------\u001B[0m",
      "\u001B[0;31mNameError\u001B[0m                                 Traceback (most recent call last)",
      "\u001B[0;32m/tmp/ipykernel_4054/1641837214.py\u001B[0m in \u001B[0;36m<module>\u001B[0;34m\u001B[0m\n\u001B[0;32m----> 1\u001B[0;31m \u001B[0mdf\u001B[0m \u001B[0;34m=\u001B[0m \u001B[0mdf\u001B[0m\u001B[0;34m.\u001B[0m\u001B[0mdrop\u001B[0m\u001B[0;34m(\u001B[0m\u001B[0;34m\"Time\"\u001B[0m\u001B[0;34m,\u001B[0m \u001B[0maxis\u001B[0m\u001B[0;34m=\u001B[0m\u001B[0;36m1\u001B[0m\u001B[0;34m)\u001B[0m \u001B[0;31m# cette colonne n'apporte rien à notre analyse\u001B[0m\u001B[0;34m\u001B[0m\u001B[0;34m\u001B[0m\u001B[0m\n\u001B[0m\u001B[1;32m      2\u001B[0m \u001B[0mdf\u001B[0m\u001B[0;34m.\u001B[0m\u001B[0mhead\u001B[0m\u001B[0;34m(\u001B[0m\u001B[0;34m)\u001B[0m\u001B[0;34m\u001B[0m\u001B[0;34m\u001B[0m\u001B[0m\n\u001B[1;32m      3\u001B[0m \u001B[0;34m\u001B[0m\u001B[0m\n",
      "\u001B[0;31mNameError\u001B[0m: name 'df' is not defined"
     ]
    }
   ],
   "source": [
    "df = df.drop(\"Time\", axis=1) # cette colonne n'apporte rien à notre analyse \n",
    "df.head()\n",
    "  "
   ]
  },
  {
   "cell_type": "code",
   "execution_count": 18,
   "metadata": {
    "application/vnd.databricks.v1+cell": {
     "inputWidgets": {},
     "nuid": "7cb1a8ae-f3fa-4ea8-9599-3c698b171f85",
     "showTitle": false,
     "title": ""
    },
    "ExecuteTime": {
     "end_time": "2024-01-05T18:40:46.217309318Z",
     "start_time": "2024-01-05T18:40:45.785338571Z"
    }
   },
   "outputs": [
    {
     "ename": "NameError",
     "evalue": "name 'df' is not defined",
     "output_type": "error",
     "traceback": [
      "\u001B[0;31m---------------------------------------------------------------------------\u001B[0m",
      "\u001B[0;31mNameError\u001B[0m                                 Traceback (most recent call last)",
      "\u001B[0;32m/tmp/ipykernel_4054/398529648.py\u001B[0m in \u001B[0;36m<module>\u001B[0;34m\u001B[0m\n\u001B[0;32m----> 1\u001B[0;31m \u001B[0msns\u001B[0m\u001B[0;34m.\u001B[0m\u001B[0mcountplot\u001B[0m\u001B[0;34m(\u001B[0m\u001B[0mx\u001B[0m\u001B[0;34m=\u001B[0m\u001B[0;34m'Class'\u001B[0m\u001B[0;34m,\u001B[0m\u001B[0mdata\u001B[0m\u001B[0;34m=\u001B[0m\u001B[0mdf\u001B[0m\u001B[0;34m)\u001B[0m\u001B[0;34m\u001B[0m\u001B[0;34m\u001B[0m\u001B[0m\n\u001B[0m",
      "\u001B[0;31mNameError\u001B[0m: name 'df' is not defined"
     ]
    }
   ],
   "source": [
    "sns.countplot(x='Class',data=df)"
   ]
  },
  {
   "cell_type": "code",
   "execution_count": 19,
   "metadata": {
    "application/vnd.databricks.v1+cell": {
     "inputWidgets": {},
     "nuid": "c8826df7-e677-42d0-9265-e972c3070577",
     "showTitle": false,
     "title": ""
    },
    "ExecuteTime": {
     "start_time": "2024-01-05T18:40:46.074775225Z"
    }
   },
   "outputs": [
    {
     "ename": "NameError",
     "evalue": "name 'df' is not defined",
     "output_type": "error",
     "traceback": [
      "\u001B[0;31m---------------------------------------------------------------------------\u001B[0m",
      "\u001B[0;31mNameError\u001B[0m                                 Traceback (most recent call last)",
      "\u001B[0;32m/tmp/ipykernel_4054/2958977188.py\u001B[0m in \u001B[0;36m<module>\u001B[0;34m\u001B[0m\n\u001B[0;32m----> 1\u001B[0;31m \u001B[0mnormal\u001B[0m \u001B[0;34m=\u001B[0m \u001B[0mdf\u001B[0m\u001B[0;34m[\u001B[0m\u001B[0mdf\u001B[0m\u001B[0;34m.\u001B[0m\u001B[0mClass\u001B[0m \u001B[0;34m==\u001B[0m \u001B[0;36m0\u001B[0m\u001B[0;34m]\u001B[0m\u001B[0;34m.\u001B[0m\u001B[0msample\u001B[0m\u001B[0;34m(\u001B[0m\u001B[0mfrac\u001B[0m\u001B[0;34m=\u001B[0m\u001B[0;36m0.5\u001B[0m\u001B[0;34m,\u001B[0m\u001B[0mrandom_state\u001B[0m\u001B[0;34m=\u001B[0m\u001B[0;36m2020\u001B[0m\u001B[0;34m)\u001B[0m\u001B[0;34m.\u001B[0m\u001B[0mreset_index\u001B[0m\u001B[0;34m(\u001B[0m\u001B[0mdrop\u001B[0m\u001B[0;34m=\u001B[0m\u001B[0;32mTrue\u001B[0m\u001B[0;34m)\u001B[0m\u001B[0;34m\u001B[0m\u001B[0;34m\u001B[0m\u001B[0m\n\u001B[0m\u001B[1;32m      2\u001B[0m \u001B[0manomaly\u001B[0m \u001B[0;34m=\u001B[0m \u001B[0mdf\u001B[0m\u001B[0;34m[\u001B[0m\u001B[0mdf\u001B[0m\u001B[0;34m.\u001B[0m\u001B[0mClass\u001B[0m \u001B[0;34m==\u001B[0m \u001B[0;36m1\u001B[0m\u001B[0;34m]\u001B[0m\u001B[0;34m\u001B[0m\u001B[0;34m\u001B[0m\u001B[0m\n",
      "\u001B[0;31mNameError\u001B[0m: name 'df' is not defined"
     ]
    }
   ],
   "source": [
    "normal = df[df.Class == 0].sample(frac=0.5,random_state=2020).reset_index(drop=True)\n",
    "anomaly = df[df.Class == 1]"
   ]
  },
  {
   "cell_type": "code",
   "execution_count": 20,
   "metadata": {
    "application/vnd.databricks.v1+cell": {
     "inputWidgets": {},
     "nuid": "22ce2fad-b96d-4fe6-ae8e-13e77062932b",
     "showTitle": false,
     "title": ""
    },
    "ExecuteTime": {
     "end_time": "2024-01-05T18:40:46.612689802Z",
     "start_time": "2024-01-05T18:40:46.361491114Z"
    }
   },
   "outputs": [
    {
     "ename": "NameError",
     "evalue": "name 'normal' is not defined",
     "output_type": "error",
     "traceback": [
      "\u001B[0;31m---------------------------------------------------------------------------\u001B[0m",
      "\u001B[0;31mNameError\u001B[0m                                 Traceback (most recent call last)",
      "\u001B[0;32m/tmp/ipykernel_4054/3275622755.py\u001B[0m in \u001B[0;36m<module>\u001B[0;34m\u001B[0m\n\u001B[0;32m----> 1\u001B[0;31m \u001B[0mprint\u001B[0m\u001B[0;34m(\u001B[0m\u001B[0;34mf\"Normal: {normal.shape}\"\u001B[0m\u001B[0;34m)\u001B[0m\u001B[0;34m\u001B[0m\u001B[0;34m\u001B[0m\u001B[0m\n\u001B[0m\u001B[1;32m      2\u001B[0m \u001B[0mprint\u001B[0m\u001B[0;34m(\u001B[0m\u001B[0;34mf\"Anomaly: {anomaly.shape}\"\u001B[0m\u001B[0;34m)\u001B[0m\u001B[0;34m\u001B[0m\u001B[0;34m\u001B[0m\u001B[0m\n",
      "\u001B[0;31mNameError\u001B[0m: name 'normal' is not defined"
     ]
    }
   ],
   "source": [
    "print(f\"Normal: {normal.shape}\")\n",
    "print(f\"Anomaly: {anomaly.shape}\")"
   ]
  },
  {
   "cell_type": "code",
   "execution_count": 21,
   "metadata": {
    "application/vnd.databricks.v1+cell": {
     "inputWidgets": {},
     "nuid": "5d8e4e74-4514-497c-92f5-00870f5c0d60",
     "showTitle": false,
     "title": ""
    },
    "ExecuteTime": {
     "start_time": "2024-01-05T18:40:46.549172676Z"
    }
   },
   "outputs": [
    {
     "ename": "NameError",
     "evalue": "name 'normal' is not defined",
     "output_type": "error",
     "traceback": [
      "\u001B[0;31m---------------------------------------------------------------------------\u001B[0m",
      "\u001B[0;31mNameError\u001B[0m                                 Traceback (most recent call last)",
      "\u001B[0;32m/tmp/ipykernel_4054/3744773918.py\u001B[0m in \u001B[0;36m<module>\u001B[0;34m\u001B[0m\n\u001B[0;32m----> 1\u001B[0;31m \u001B[0mnormal_train\u001B[0m\u001B[0;34m,\u001B[0m \u001B[0mnormal_test\u001B[0m \u001B[0;34m=\u001B[0m \u001B[0mtrain_test_split\u001B[0m\u001B[0;34m(\u001B[0m\u001B[0mnormal\u001B[0m\u001B[0;34m,\u001B[0m\u001B[0mtest_size\u001B[0m \u001B[0;34m=\u001B[0m \u001B[0;36m0.2\u001B[0m\u001B[0;34m,\u001B[0m \u001B[0mrandom_state\u001B[0m \u001B[0;34m=\u001B[0m \u001B[0;36m2020\u001B[0m\u001B[0;34m)\u001B[0m\u001B[0;34m\u001B[0m\u001B[0;34m\u001B[0m\u001B[0m\n\u001B[0m\u001B[1;32m      2\u001B[0m \u001B[0manomaly_train\u001B[0m\u001B[0;34m,\u001B[0m \u001B[0manomaly_test\u001B[0m \u001B[0;34m=\u001B[0m \u001B[0mtrain_test_split\u001B[0m\u001B[0;34m(\u001B[0m\u001B[0manomaly\u001B[0m\u001B[0;34m,\u001B[0m \u001B[0mtest_size\u001B[0m \u001B[0;34m=\u001B[0m \u001B[0;36m0.2\u001B[0m\u001B[0;34m,\u001B[0m \u001B[0mrandom_state\u001B[0m \u001B[0;34m=\u001B[0m \u001B[0;36m2020\u001B[0m\u001B[0;34m)\u001B[0m\u001B[0;34m\u001B[0m\u001B[0;34m\u001B[0m\u001B[0m\n\u001B[1;32m      3\u001B[0m \u001B[0mnormal_train\u001B[0m\u001B[0;34m,\u001B[0m \u001B[0mnormal_validate\u001B[0m \u001B[0;34m=\u001B[0m \u001B[0mtrain_test_split\u001B[0m\u001B[0;34m(\u001B[0m\u001B[0mnormal_train\u001B[0m\u001B[0;34m,\u001B[0m\u001B[0mtest_size\u001B[0m \u001B[0;34m=\u001B[0m \u001B[0;36m0.25\u001B[0m\u001B[0;34m,\u001B[0m \u001B[0mrandom_state\u001B[0m \u001B[0;34m=\u001B[0m \u001B[0;36m2020\u001B[0m\u001B[0;34m)\u001B[0m\u001B[0;34m\u001B[0m\u001B[0;34m\u001B[0m\u001B[0m\n\u001B[1;32m      4\u001B[0m \u001B[0manomaly_train\u001B[0m\u001B[0;34m,\u001B[0m \u001B[0manomaly_validate\u001B[0m \u001B[0;34m=\u001B[0m \u001B[0mtrain_test_split\u001B[0m\u001B[0;34m(\u001B[0m\u001B[0manomaly_train\u001B[0m\u001B[0;34m,\u001B[0m \u001B[0mtest_size\u001B[0m \u001B[0;34m=\u001B[0m \u001B[0;36m0.25\u001B[0m\u001B[0;34m,\u001B[0m \u001B[0mrandom_state\u001B[0m \u001B[0;34m=\u001B[0m \u001B[0;36m2020\u001B[0m\u001B[0;34m)\u001B[0m\u001B[0;34m\u001B[0m\u001B[0;34m\u001B[0m\u001B[0m\n",
      "\u001B[0;31mNameError\u001B[0m: name 'normal' is not defined"
     ]
    }
   ],
   "source": [
    "normal_train, normal_test = train_test_split(normal,test_size = 0.2, random_state = 2020)\n",
    "anomaly_train, anomaly_test = train_test_split(anomaly, test_size = 0.2, random_state = 2020)\n",
    "normal_train, normal_validate = train_test_split(normal_train,test_size = 0.25, random_state = 2020)\n",
    "anomaly_train, anomaly_validate = train_test_split(anomaly_train, test_size = 0.25, random_state = 2020)"
   ]
  },
  {
   "cell_type": "code",
   "execution_count": 22,
   "metadata": {
    "application/vnd.databricks.v1+cell": {
     "inputWidgets": {},
     "nuid": "d8b829c4-0aaa-4731-b522-791c56f36b5d",
     "showTitle": false,
     "title": ""
    },
    "ExecuteTime": {
     "end_time": "2024-01-05T18:40:46.913016539Z",
     "start_time": "2024-01-05T18:40:46.688481971Z"
    }
   },
   "outputs": [
    {
     "ename": "NameError",
     "evalue": "name 'normal_train' is not defined",
     "output_type": "error",
     "traceback": [
      "\u001B[0;31m---------------------------------------------------------------------------\u001B[0m",
      "\u001B[0;31mNameError\u001B[0m                                 Traceback (most recent call last)",
      "\u001B[0;32m/tmp/ipykernel_4054/2480883493.py\u001B[0m in \u001B[0;36m<module>\u001B[0;34m\u001B[0m\n\u001B[0;32m----> 1\u001B[0;31m \u001B[0mx_train\u001B[0m \u001B[0;34m=\u001B[0m \u001B[0mpd\u001B[0m\u001B[0;34m.\u001B[0m\u001B[0mconcat\u001B[0m\u001B[0;34m(\u001B[0m\u001B[0;34m(\u001B[0m\u001B[0mnormal_train\u001B[0m\u001B[0;34m,\u001B[0m \u001B[0manomaly_train\u001B[0m\u001B[0;34m)\u001B[0m\u001B[0;34m)\u001B[0m\u001B[0;34m\u001B[0m\u001B[0;34m\u001B[0m\u001B[0m\n\u001B[0m\u001B[1;32m      2\u001B[0m \u001B[0mx_test\u001B[0m \u001B[0;34m=\u001B[0m \u001B[0mpd\u001B[0m\u001B[0;34m.\u001B[0m\u001B[0mconcat\u001B[0m\u001B[0;34m(\u001B[0m\u001B[0;34m(\u001B[0m\u001B[0mnormal_test\u001B[0m\u001B[0;34m,\u001B[0m \u001B[0manomaly_test\u001B[0m\u001B[0;34m)\u001B[0m\u001B[0;34m)\u001B[0m\u001B[0;34m\u001B[0m\u001B[0;34m\u001B[0m\u001B[0m\n\u001B[1;32m      3\u001B[0m \u001B[0mx_validate\u001B[0m \u001B[0;34m=\u001B[0m \u001B[0mpd\u001B[0m\u001B[0;34m.\u001B[0m\u001B[0mconcat\u001B[0m\u001B[0;34m(\u001B[0m\u001B[0;34m(\u001B[0m\u001B[0mnormal_validate\u001B[0m\u001B[0;34m,\u001B[0m \u001B[0manomaly_validate\u001B[0m\u001B[0;34m)\u001B[0m\u001B[0;34m)\u001B[0m\u001B[0;34m\u001B[0m\u001B[0;34m\u001B[0m\u001B[0m\n",
      "\u001B[0;31mNameError\u001B[0m: name 'normal_train' is not defined"
     ]
    }
   ],
   "source": [
    "x_train = pd.concat((normal_train, anomaly_train))\n",
    "x_test = pd.concat((normal_test, anomaly_test))\n",
    "x_validate = pd.concat((normal_validate, anomaly_validate))"
   ]
  },
  {
   "cell_type": "code",
   "execution_count": 0,
   "metadata": {
    "application/vnd.databricks.v1+cell": {
     "inputWidgets": {},
     "nuid": "0f9154fc-e384-4c11-8664-d189b7dd90aa",
     "showTitle": false,
     "title": ""
    }
   },
   "outputs": [],
   "source": [
    "y_train = np.array(x_train[\"Class\"])\n",
    "y_test = np.array(x_test[\"Class\"])\n",
    "y_validate = np.array(x_validate[\"Class\"])"
   ]
  },
  {
   "cell_type": "code",
   "execution_count": 0,
   "metadata": {
    "application/vnd.databricks.v1+cell": {
     "inputWidgets": {},
     "nuid": "218a641e-5e9c-4204-8bc5-6bb17b3ecf04",
     "showTitle": false,
     "title": ""
    }
   },
   "outputs": [],
   "source": [
    "x_train = x_train.drop(\"Class\", axis=1)\n",
    "x_test = x_test.drop(\"Class\", axis=1)\n",
    "x_validate = x_validate.drop(\"Class\", axis=1)"
   ]
  },
  {
   "cell_type": "code",
   "execution_count": 0,
   "metadata": {
    "application/vnd.databricks.v1+cell": {
     "inputWidgets": {},
     "nuid": "fce1f6fa-3643-4eb8-a6bf-8ad149712741",
     "showTitle": false,
     "title": ""
    }
   },
   "outputs": [
    {
     "data": {
      "text/plain": [
       "Training sets:\n",
       "x_train: (85588, 29) \n",
       "y_train:(85588,)\n",
       "\n",
       "Testing sets:\n",
       "x_test: (28531, 29) \n",
       "y_test:(28531,)\n",
       "\n",
       "Validation sets:\n",
       "x_validate: (28531, 29) \n",
       "y_validate: (28531,)\n"
      ]
     },
     "metadata": {
      "application/vnd.databricks.v1+output": {
       "addedWidgets": {},
       "arguments": {},
       "data": "Training sets:\nx_train: (85588, 29) \ny_train:(85588,)\n\nTesting sets:\nx_test: (28531, 29) \ny_test:(28531,)\n\nValidation sets:\nx_validate: (28531, 29) \ny_validate: (28531,)\n",
       "datasetInfos": [],
       "metadata": {},
       "removedWidgets": [],
       "type": "ansi"
      }
     },
     "output_type": "display_data"
    }
   ],
   "source": [
    "print(\"Training sets:\\nx_train: {} \\ny_train:{}\".format(x_train.shape, y_train.shape))\n",
    "print(\"\\nTesting sets:\\nx_test: {} \\ny_test:{}\".format(x_test.shape, y_test.shape))\n",
    "print(\"\\nValidation sets:\\nx_validate: {} \\ny_validate: {}\".format(x_validate.shape, y_validate.shape))"
   ]
  },
  {
   "cell_type": "code",
   "execution_count": 0,
   "metadata": {
    "application/vnd.databricks.v1+cell": {
     "inputWidgets": {},
     "nuid": "f9673742-2221-44a7-87c0-36f5a0d330d3",
     "showTitle": false,
     "title": ""
    }
   },
   "outputs": [
    {
     "data": {
      "text/plain": [
       "Out[24]: StandardScaler()"
      ]
     },
     "metadata": {
      "application/vnd.databricks.v1+output": {
       "addedWidgets": {},
       "arguments": {},
       "data": "Out[24]: StandardScaler()",
       "datasetInfos": [],
       "metadata": {},
       "removedWidgets": [],
       "type": "ansi"
      }
     },
     "output_type": "display_data"
    }
   ],
   "source": [
    "scaler = StandardScaler()\n",
    "scaler.fit(pd.concat((normal, anomaly)).drop(\"Class\", axis=1))"
   ]
  },
  {
   "cell_type": "code",
   "execution_count": 0,
   "metadata": {
    "application/vnd.databricks.v1+cell": {
     "inputWidgets": {},
     "nuid": "c722fc83-a64a-4356-b12f-7fd98db8b79d",
     "showTitle": false,
     "title": ""
    }
   },
   "outputs": [],
   "source": [
    "x_train = scaler.transform(x_train)\n",
    "x_test = scaler.transform(x_test)\n",
    "x_validate = scaler.transform(x_validate)"
   ]
  },
  {
   "cell_type": "code",
   "execution_count": 0,
   "metadata": {
    "application/vnd.databricks.v1+cell": {
     "inputWidgets": {},
     "nuid": "bfc4d63f-a9c7-4239-8d2c-2819312632ec",
     "showTitle": false,
     "title": ""
    }
   },
   "outputs": [],
   "source": [
    "def train(sk_model, x_train, y_train):\n",
    "    sk_model = sk_model.fit(x_train, y_train)\n",
    "    train_acc = sk_model.score(x_train, y_train)\n",
    "    mlflow.log_metric(\"train_acc\", train_acc)\n",
    "    print(f\"Train Accuracy: {train_acc:.3%}\")"
   ]
  },
  {
   "cell_type": "code",
   "execution_count": 0,
   "metadata": {
    "application/vnd.databricks.v1+cell": {
     "inputWidgets": {},
     "nuid": "cabf8c63-9946-40f5-a966-3bfa0b14bc3e",
     "showTitle": false,
     "title": ""
    }
   },
   "outputs": [],
   "source": [
    "def evaluate(sk_model, x_test, y_test):\n",
    "    eval_acc = sk_model.score(x_test, y_test)\n",
    "    preds = sk_model.predict(x_test)\n",
    "    auc_score = roc_auc_score(y_test, preds)\n",
    "    mlflow.log_metric(\"eval_acc\", eval_acc) # nous avons fait la même chose pour l'accuracy de test (evaluation)\n",
    "    mlflow.log_metric(\"auc_score\", auc_score)# aussi pour l'AUC score \n",
    "    print(f\"Auc Score: {auc_score:.3%}\")\n",
    "    print(f\"Eval Accuracy: {eval_acc:.3%}\")\n",
    "    roc_plot = plot_roc_curve(sk_model, x_test, y_test,name='Scikit-learn ROC Curve')\n",
    "    plt.savefig(\"sklearn_roc_plot.png\")\n",
    "    plt.show()\n",
    "    plt.clf()\n",
    "    conf_matrix = confusion_matrix(y_test, preds)\n",
    "    ax = sns.heatmap(conf_matrix, annot=True,fmt='g')\n",
    "    ax.invert_xaxis()\n",
    "    ax.invert_yaxis()\n",
    "    plt.ylabel('Actual')\n",
    "    plt.xlabel('Predicted')\n",
    "    plt.title(\"Confusion Matrix\")\n",
    "    plt.savefig(\"sklearn_conf_matrix.png\")\n",
    "    # nous avons dit à MLflow de sauvegarder ces deux figure afin de les consulter à chaque \n",
    "    # exécution d'une façon organisée comme nous allons le voir plus loin dans cet atelier  \n",
    "    mlflow.log_artifact(\"sklearn_roc_plot.png\")\n",
    "    mlflow.log_artifact(\"sklearn_conf_matrix.png\")"
   ]
  },
  {
   "cell_type": "code",
   "execution_count": 0,
   "metadata": {
    "application/vnd.databricks.v1+cell": {
     "inputWidgets": {},
     "nuid": "7dc551ab-f1ba-4b81-9173-580e0d155318",
     "showTitle": false,
     "title": ""
    }
   },
   "outputs": [
    {
     "data": {
      "text/plain": [
       "Wrote 97 bytes.\n",
       "Out[28]: True"
      ]
     },
     "metadata": {
      "application/vnd.databricks.v1+output": {
       "addedWidgets": {},
       "arguments": {},
       "data": "Wrote 97 bytes.\nOut[28]: True",
       "datasetInfos": [],
       "metadata": {},
       "removedWidgets": [],
       "type": "ansi"
      }
     },
     "output_type": "display_data"
    }
   ],
   "source": [
    "#to configure your DataBricks CLI\n",
    "token = dbutils.notebook.entry_point.getDbutils().notebook().getContext().apiToken().get()\n",
    "dbutils.fs.put(\"file:///root/.databrickscfg\",\"[DEFAULT]\\nhost=https://community.cloud.databricks.com\\ntoken =\"+token,overwrite=True)"
   ]
  },
  {
   "cell_type": "code",
   "execution_count": 0,
   "metadata": {
    "application/vnd.databricks.v1+cell": {
     "inputWidgets": {},
     "nuid": "ad5ef2cc-cf73-40fc-98ff-a9b4b2750298",
     "showTitle": false,
     "title": ""
    }
   },
   "outputs": [
    {
     "data": {
      "text/plain": [
       "/databricks/python/lib/python3.8/site-packages/sklearn/utils/optimize.py:202: ConvergenceWarning: newton-cg failed to converge. Increase the number of iterations.\n",
       "  warnings.warn(\"newton-cg failed to converge. Increase the \"\n",
       "Train Accuracy: 99.893%\n",
       "Auc Score: 85.341%\n",
       "Eval Accuracy: 99.874%\n"
      ]
     },
     "metadata": {
      "application/vnd.databricks.v1+output": {
       "addedWidgets": {},
       "arguments": {},
       "data": "/databricks/python/lib/python3.8/site-packages/sklearn/utils/optimize.py:202: ConvergenceWarning: newton-cg failed to converge. Increase the number of iterations.\n  warnings.warn(\"newton-cg failed to converge. Increase the \"\nTrain Accuracy: 99.893%\nAuc Score: 85.341%\nEval Accuracy: 99.874%\n",
       "datasetInfos": [],
       "metadata": {},
       "removedWidgets": [],
       "type": "ansi"
      }
     },
     "output_type": "display_data"
    },
    {
     "data": {
      "image/png": "[encoded data removed]"
     },
     "metadata": {
      "application/vnd.databricks.v1+output": {
       "addedWidgets": {},
       "arguments": {},
       "data": "data:image/png;base64,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\n",
       "datasetInfos": [],
       "metadata": {},
       "removedWidgets": [],
       "type": "image"
      }
     },
     "output_type": "display_data"
    },
    {
     "data": {
      "text/plain": [
       "Model run:  7f15bba4098d4d629fdfb1664c4f4d9b\n"
      ]
     },
     "metadata": {
      "application/vnd.databricks.v1+output": {
       "addedWidgets": {},
       "arguments": {},
       "data": "Model run:  7f15bba4098d4d629fdfb1664c4f4d9b\n",
       "datasetInfos": [],
       "metadata": {},
       "removedWidgets": [],
       "type": "ansi"
      }
     },
     "output_type": "display_data"
    },
    {
     "data": {
      "image/png": "[encoded data removed]"
     },
     "metadata": {
      "application/vnd.databricks.v1+output": {
       "addedWidgets": {},
       "arguments": {},
       "data": "data:image/png;base64,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\n",
       "datasetInfos": [],
       "metadata": {},
       "removedWidgets": [],
       "type": "image"
      }
     },
     "output_type": "display_data"
    }
   ],
   "source": [
    "sk_model = LogisticRegression(random_state=None,max_iter=10, solver='newton-cg')\n",
    "mlflow.set_experiment(\"/Users/fahd.kalloubi@gmail.com/scikit_learn_experiment1\")\n",
    "with mlflow.start_run():\n",
    "    train(sk_model, x_train, y_train)\n",
    "    evaluate(sk_model, x_test, y_test)\n",
    "    mlflow.sklearn.log_model(sk_model, \"log_reg_model\")\n",
    "    print(\"Model run: \", mlflow.active_run().info.run_uuid)\n",
    "mlflow.end_run()"
   ]
  },
  {
   "cell_type": "code",
   "execution_count": 0,
   "metadata": {
    "application/vnd.databricks.v1+cell": {
     "inputWidgets": {},
     "nuid": "3413c518-1432-486b-89d1-31de2aadbbf5",
     "showTitle": false,
     "title": ""
    }
   },
   "outputs": [],
   "source": [
    "\n",
    "# define evaluation\n",
    "\n",
    "# define search space\n",
    "from sklearn.model_selection import RepeatedStratifiedKFold\n",
    "from sklearn.model_selection import RandomizedSearchCV\n",
    "from scipy.stats import loguniform\n",
    "# summarize result\n",
    "#print('Best Score: %s' % result.best_score_)\n",
    "#print('Best Hyperparameters: %s' % result.best_params_)\n",
    "\n",
    "model = LogisticRegression()\n",
    "cv = RepeatedStratifiedKFold(n_splits=10, n_repeats=3, random_state=1)\n",
    "space = dict()\n",
    "space['solver'] = ['newton-cg', 'lbfgs', 'liblinear']\n",
    "space['penalty'] = ['none', 'l1', 'l2', 'elasticnet']\n",
    "space['C'] = loguniform(1e-5, 100)\n",
    "mlflow.set_experiment(\"/Users/fahd.kalloubi@gmail.com/scikit_learn_experiment1\")\n",
    "with mlflow.start_run():\n",
    "    search = RandomizedSearchCV(model, space, n_iter=500, scoring='accuracy', n_jobs=-1, cv=cv, random_state=1)\n",
    "    sk_model = search.fit(x_train, y_train)\n",
    "    train(sk_model, x_train, y_train)\n",
    "    evaluate(sk_model, x_test, y_test)\n",
    "    mlflow.sklearn.log_model(sk_model, \"log_reg_model\")\n",
    "    print(\"Model run: \", mlflow.active_run().info.run_uuid)\n",
    "mlflow.end_run()"
   ]
  },
  {
   "cell_type": "code",
   "execution_count": 0,
   "metadata": {
    "application/vnd.databricks.v1+cell": {
     "inputWidgets": {},
     "nuid": "484c7e86-82b2-4fea-aacf-15612b24dff7",
     "showTitle": false,
     "title": ""
    }
   },
   "outputs": [
    {
     "data": {
      "text/html": [
       "<style scoped>\n",
       "  .table-result-container {\n",
       "    max-height: 300px;\n",
       "    overflow: auto;\n",
       "  }\n",
       "  table, th, td {\n",
       "    border: 1px solid black;\n",
       "    border-collapse: collapse;\n",
       "  }\n",
       "  th, td {\n",
       "    padding: 5px;\n",
       "  }\n",
       "  th {\n",
       "    text-align: left;\n",
       "  }\n",
       "</style><div class='table-result-container'><table class='table-result'><thead style='background-color: white'><tr><th>run_id</th><th>experiment_id</th><th>status</th><th>artifact_uri</th><th>start_time</th><th>end_time</th><th>metrics.auc_score</th><th>metrics.eval_acc</th><th>metrics.train_acc</th><th>tags.mlflow.databricks.cluster.id</th><th>tags.mlflow.databricks.notebookRevisionID</th><th>tags.mlflow.user</th><th>tags.mlflow.source.name</th><th>tags.mlflow.databricks.notebookPath</th><th>tags.mlflow.databricks.notebookID</th><th>tags.mlflow.source.type</th><th>tags.mlflow.log-model.history</th><th>tags.mlflow.databricks.cluster.info</th><th>tags.mlflow.databricks.notebook.commandID</th><th>tags.mlflow.databricks.webappURL</th><th>tags.mlflow.databricks.cluster.libraries</th></tr></thead><tbody><tr><td>591c8c63b0b747dca8c4a852978e2053</td><td>3693745557549495</td><td>FINISHED</td><td>dbfs:/databricks/mlflow-tracking/3693745557549495/591c8c63b0b747dca8c4a852978e2053/artifacts</td><td>2022-09-04T15:27:57.445+0000</td><td>2022-09-04T15:28:03.993+0000</td><td>0.8534122528037835</td><td>0.9987382145736217</td><td>0.9989250829555545</td><td>0904-145106-k49uieja</td><td>1662305284250</td><td>fahd.kalloubi@gmail.com</td><td>/Users/fahd.kalloubi@gmail.com/MLflow-Introduction</td><td>/Users/fahd.kalloubi@gmail.com/MLflow-Introduction</td><td>2896948810282060</td><td>NOTEBOOK</td><td>[{\"artifact_path\":\"log_reg_model\",\"flavors\":{\"python_function\":{\"model_path\":\"model.pkl\",\"loader_module\":\"mlflow.sklearn\",\"python_version\":\"3.8.10\",\"env\":\"conda.yaml\"},\"sklearn\":{\"pickled_model\":\"model.pkl\",\"sklearn_version\":\"0.24.1\",\"serialization_format\":\"cloudpickle\"}},\"run_id\":\"591c8c63b0b747dca8c4a852978e2053\",\"utc_time_created\":\"2022-09-04 15:28:00.920656\",\"databricks_runtime\":\"10.4.x-scala2.12\"}]</td><td>{\"cluster_name\":\"UM6P-ME\",\"spark_version\":\"10.4.x-scala2.12\",\"node_type_id\":\"dev-tier-node\",\"driver_node_type_id\":\"dev-tier-node\",\"autotermination_minutes\":120,\"disk_spec\":{\"disk_count\":0},\"num_workers\":0}</td><td>6635712959458579325_5048262128303007165_cee5dc98a4b64b03b6e1eb8b1910ffb2</td><td>https://community.cloud.databricks.com</td><td>{\"installable\":[],\"redacted\":[]}</td></tr><tr><td>e9bdacca8b204911bfffd05b10dfc855</td><td>3693745557549495</td><td>FINISHED</td><td>dbfs:/databricks/mlflow-tracking/3693745557549495/e9bdacca8b204911bfffd05b10dfc855/artifacts</td><td>2022-06-20T10:16:57.083+0000</td><td>2022-06-20T10:17:03.061+0000</td><td>0.8534122528037835</td><td>0.9987382145736217</td><td>0.9989250829555545</td><td>0620-101313-s4q2hgnx</td><td>1655720223343</td><td>fahd.kalloubi@gmail.com</td><td>/Users/fahd.kalloubi@gmail.com/MLflow-Introduction</td><td>/Users/fahd.kalloubi@gmail.com/MLflow-Introduction</td><td>2896948810282060</td><td>NOTEBOOK</td><td>[{\"artifact_path\":\"log_reg_model\",\"flavors\":{\"python_function\":{\"model_path\":\"model.pkl\",\"loader_module\":\"mlflow.sklearn\",\"python_version\":\"3.8.10\",\"env\":\"conda.yaml\"},\"sklearn\":{\"pickled_model\":\"model.pkl\",\"sklearn_version\":\"0.24.1\",\"serialization_format\":\"cloudpickle\"}},\"run_id\":\"e9bdacca8b204911bfffd05b10dfc855\",\"utc_time_created\":\"2022-06-20 10:17:00.297711\",\"databricks_runtime\":\"10.4.x-scala2.12\"}]</td><td>{\"cluster_name\":\"UM6P-SD\",\"spark_version\":\"10.4.x-scala2.12\",\"node_type_id\":\"dev-tier-node\",\"driver_node_type_id\":\"dev-tier-node\",\"autotermination_minutes\":120,\"disk_spec\":{\"disk_count\":0},\"num_workers\":0}</td><td>8793208756980924392_7092050744124407699_f80938fc4ea04adc8f57f51834083ec7</td><td>https://community.cloud.databricks.com</td><td>{\"installable\":[],\"redacted\":[]}</td></tr><tr><td>8c4c7602eb654a8dbeaba72c5865b736</td><td>3693745557549495</td><td>RUNNING</td><td>dbfs:/databricks/mlflow-tracking/3693745557549495/8c4c7602eb654a8dbeaba72c5865b736/artifacts</td><td>2022-06-19T21:36:08.118+0000</td><td>null</td><td>null</td><td>null</td><td>null</td><td>0619-210426-9elms600</td><td>null</td><td>fahd.kalloubi@gmail.com</td><td>/Users/fahd.kalloubi@gmail.com/MLflow-Introduction</td><td>/Users/fahd.kalloubi@gmail.com/MLflow-Introduction</td><td>2896948810282060</td><td>NOTEBOOK</td><td>null</td><td>{\"cluster_name\":\"UM6P-DS-Cluster\",\"spark_version\":\"10.4.x-scala2.12\",\"node_type_id\":\"dev-tier-node\",\"driver_node_type_id\":\"dev-tier-node\",\"autotermination_minutes\":120,\"disk_spec\":{\"disk_count\":0},\"num_workers\":0}</td><td>2940594771173668889_7436315473862625537_750bf774e4234215879aaa21b8a3d1f9</td><td>https://community.cloud.databricks.com</td><td>{\"installable\":[],\"redacted\":[]}</td></tr><tr><td>3d7fe8522bc846a9b00ce6f4d2b09a8e</td><td>3693745557549495</td><td>FINISHED</td><td>dbfs:/databricks/mlflow-tracking/3693745557549495/3d7fe8522bc846a9b00ce6f4d2b09a8e/artifacts</td><td>2022-06-19T21:13:58.865+0000</td><td>2022-06-19T21:14:04.523+0000</td><td>0.8534122528037835</td><td>0.9987382145736217</td><td>0.9989250829555545</td><td>0619-210426-9elms600</td><td>1655673244792</td><td>fahd.kalloubi@gmail.com</td><td>/Users/fahd.kalloubi@gmail.com/MLflow-Introduction</td><td>/Users/fahd.kalloubi@gmail.com/MLflow-Introduction</td><td>2896948810282060</td><td>NOTEBOOK</td><td>[{\"artifact_path\":\"log_reg_model\",\"flavors\":{\"python_function\":{\"model_path\":\"model.pkl\",\"loader_module\":\"mlflow.sklearn\",\"python_version\":\"3.8.10\",\"env\":\"conda.yaml\"},\"sklearn\":{\"pickled_model\":\"model.pkl\",\"sklearn_version\":\"0.24.1\",\"serialization_format\":\"cloudpickle\"}},\"run_id\":\"3d7fe8522bc846a9b00ce6f4d2b09a8e\",\"utc_time_created\":\"2022-06-19 21:14:02.045517\",\"databricks_runtime\":\"10.4.x-scala2.12\"}]</td><td>{\"cluster_name\":\"UM6P-DS-Cluster\",\"spark_version\":\"10.4.x-scala2.12\",\"node_type_id\":\"dev-tier-node\",\"driver_node_type_id\":\"dev-tier-node\",\"autotermination_minutes\":120,\"disk_spec\":{\"disk_count\":0},\"num_workers\":0}</td><td>2940594771173668889_6159696386793884203_72e2f64eae8b4ff1b56a57238ab5963c</td><td>https://community.cloud.databricks.com</td><td>{\"installable\":[],\"redacted\":[]}</td></tr><tr><td>0877b81ae26641dd82fd1dc2523454cb</td><td>3693745557549495</td><td>FINISHED</td><td>dbfs:/databricks/mlflow-tracking/3693745557549495/0877b81ae26641dd82fd1dc2523454cb/artifacts</td><td>2022-06-19T21:13:26.304+0000</td><td>2022-06-19T21:13:32.129+0000</td><td>0.8534122528037835</td><td>0.9987382145736217</td><td>0.9989250829555545</td><td>0619-210426-9elms600</td><td>1655673212358</td><td>fahd.kalloubi@gmail.com</td><td>/Users/fahd.kalloubi@gmail.com/MLflow-Introduction</td><td>/Users/fahd.kalloubi@gmail.com/MLflow-Introduction</td><td>2896948810282060</td><td>NOTEBOOK</td><td>[{\"artifact_path\":\"log_reg_model\",\"flavors\":{\"python_function\":{\"model_path\":\"model.pkl\",\"loader_module\":\"mlflow.sklearn\",\"python_version\":\"3.8.10\",\"env\":\"conda.yaml\"},\"sklearn\":{\"pickled_model\":\"model.pkl\",\"sklearn_version\":\"0.24.1\",\"serialization_format\":\"cloudpickle\"}},\"run_id\":\"0877b81ae26641dd82fd1dc2523454cb\",\"utc_time_created\":\"2022-06-19 21:13:29.899815\",\"databricks_runtime\":\"10.4.x-scala2.12\"}]</td><td>{\"cluster_name\":\"UM6P-DS-Cluster\",\"spark_version\":\"10.4.x-scala2.12\",\"node_type_id\":\"dev-tier-node\",\"driver_node_type_id\":\"dev-tier-node\",\"autotermination_minutes\":120,\"disk_spec\":{\"disk_count\":0},\"num_workers\":0}</td><td>2940594771173668889_8012208054067343448_4ec833000b384473a0c6ab4f213b420c</td><td>https://community.cloud.databricks.com</td><td>{\"installable\":[],\"redacted\":[]}</td></tr><tr><td>8e8cd09e5fd54b818736f921783df252</td><td>3693745557549495</td><td>FINISHED</td><td>dbfs:/databricks/mlflow-tracking/3693745557549495/8e8cd09e5fd54b818736f921783df252/artifacts</td><td>2022-06-19T21:12:50.167+0000</td><td>2022-06-19T21:12:56.852+0000</td><td>0.8534122528037835</td><td>0.9987382145736217</td><td>0.9989250829555545</td><td>0619-210426-9elms600</td><td>1655673177180</td><td>fahd.kalloubi@gmail.com</td><td>/Users/fahd.kalloubi@gmail.com/MLflow-Introduction</td><td>/Users/fahd.kalloubi@gmail.com/MLflow-Introduction</td><td>2896948810282060</td><td>NOTEBOOK</td><td>[{\"artifact_path\":\"log_reg_model\",\"flavors\":{\"python_function\":{\"model_path\":\"model.pkl\",\"loader_module\":\"mlflow.sklearn\",\"python_version\":\"3.8.10\",\"env\":\"conda.yaml\"},\"sklearn\":{\"pickled_model\":\"model.pkl\",\"sklearn_version\":\"0.24.1\",\"serialization_format\":\"cloudpickle\"}},\"run_id\":\"8e8cd09e5fd54b818736f921783df252\",\"utc_time_created\":\"2022-06-19 21:12:54.279252\",\"databricks_runtime\":\"10.4.x-scala2.12\"}]</td><td>{\"cluster_name\":\"UM6P-DS-Cluster\",\"spark_version\":\"10.4.x-scala2.12\",\"node_type_id\":\"dev-tier-node\",\"driver_node_type_id\":\"dev-tier-node\",\"autotermination_minutes\":120,\"disk_spec\":{\"disk_count\":0},\"num_workers\":0}</td><td>2940594771173668889_6629791971369064200_d8c04f653cbe4f729a680c747f4864ba</td><td>https://community.cloud.databricks.com</td><td>{\"installable\":[],\"redacted\":[]}</td></tr><tr><td>a1ece9e249b44be595da5356113d2f5d</td><td>3693745557549495</td><td>FINISHED</td><td>dbfs:/databricks/mlflow-tracking/3693745557549495/a1ece9e249b44be595da5356113d2f5d/artifacts</td><td>2022-06-19T21:11:52.412+0000</td><td>2022-06-19T21:11:59.994+0000</td><td>0.8534122528037835</td><td>0.9987382145736217</td><td>0.9989250829555545</td><td>0619-210426-9elms600</td><td>1655673120375</td><td>fahd.kalloubi@gmail.com</td><td>/Users/fahd.kalloubi@gmail.com/MLflow-Introduction</td><td>/Users/fahd.kalloubi@gmail.com/MLflow-Introduction</td><td>2896948810282060</td><td>NOTEBOOK</td><td>[{\"artifact_path\":\"log_reg_model\",\"flavors\":{\"python_function\":{\"model_path\":\"model.pkl\",\"loader_module\":\"mlflow.sklearn\",\"python_version\":\"3.8.10\",\"env\":\"conda.yaml\"},\"sklearn\":{\"pickled_model\":\"model.pkl\",\"sklearn_version\":\"0.24.1\",\"serialization_format\":\"cloudpickle\"}},\"run_id\":\"a1ece9e249b44be595da5356113d2f5d\",\"utc_time_created\":\"2022-06-19 21:11:57.082004\",\"databricks_runtime\":\"10.4.x-scala2.12\"}]</td><td>{\"cluster_name\":\"UM6P-DS-Cluster\",\"spark_version\":\"10.4.x-scala2.12\",\"node_type_id\":\"dev-tier-node\",\"driver_node_type_id\":\"dev-tier-node\",\"autotermination_minutes\":120,\"disk_spec\":{\"disk_count\":0},\"num_workers\":0}</td><td>2940594771173668889_6395957657639436868_e85760a9a4e34b7097650a086c77fb35</td><td>https://community.cloud.databricks.com</td><td>{\"installable\":[],\"redacted\":[]}</td></tr><tr><td>e9a3c8a563c541a98bccf598c5786b9d</td><td>3693745557549495</td><td>FINISHED</td><td>dbfs:/databricks/mlflow-tracking/3693745557549495/e9a3c8a563c541a98bccf598c5786b9d/artifacts</td><td>2022-06-19T16:37:35.412+0000</td><td>2022-06-19T16:37:41.553+0000</td><td>0.8534122528037835</td><td>0.9987382145736217</td><td>0.9989250829555545</td><td>0619-160025-jvd2qbyt</td><td>1655656661760</td><td>fahd.kalloubi@gmail.com</td><td>/Users/fahd.kalloubi@gmail.com/MLflow-Introduction</td><td>/Users/fahd.kalloubi@gmail.com/MLflow-Introduction</td><td>2896948810282060</td><td>NOTEBOOK</td><td>[{\"artifact_path\":\"log_reg_model\",\"flavors\":{\"python_function\":{\"model_path\":\"model.pkl\",\"loader_module\":\"mlflow.sklearn\",\"python_version\":\"3.8.10\",\"env\":\"conda.yaml\"},\"sklearn\":{\"pickled_model\":\"model.pkl\",\"sklearn_version\":\"0.24.1\",\"serialization_format\":\"cloudpickle\"}},\"run_id\":\"e9a3c8a563c541a98bccf598c5786b9d\",\"utc_time_created\":\"2022-06-19 16:37:39.206769\",\"databricks_runtime\":\"10.4.x-scala2.12\"}]</td><td>{\"cluster_name\":\"UM6P-Intro\",\"spark_version\":\"10.4.x-scala2.12\",\"node_type_id\":\"dev-tier-node\",\"driver_node_type_id\":\"dev-tier-node\",\"autotermination_minutes\":120,\"disk_spec\":{\"disk_count\":0},\"num_workers\":0}</td><td>7017169050755816369_7569635596922072484_43035ad31da44c179fc919fc28e1bfea</td><td>https://community.cloud.databricks.com</td><td>{\"installable\":[],\"redacted\":[]}</td></tr></tbody></table></div>"
      ]
     },
     "metadata": {
      "application/vnd.databricks.v1+output": {
       "addedWidgets": {},
       "aggData": [],
       "aggError": "",
       "aggOverflow": false,
       "aggSchema": [],
       "aggSeriesLimitReached": false,
       "aggType": "",
       "arguments": {},
       "columnCustomDisplayInfos": {},
       "data": [
        [
         "591c8c63b0b747dca8c4a852978e2053",
         "3693745557549495",
         "FINISHED",
         "dbfs:/databricks/mlflow-tracking/3693745557549495/591c8c63b0b747dca8c4a852978e2053/artifacts",
         "2022-09-04T15:27:57.445+0000",
         "2022-09-04T15:28:03.993+0000",
         0.8534122528037835,
         0.9987382145736217,
         0.9989250829555545,
         "0904-145106-k49uieja",
         "1662305284250",
         "fahd.kalloubi@gmail.com",
         "/Users/fahd.kalloubi@gmail.com/MLflow-Introduction",
         "/Users/fahd.kalloubi@gmail.com/MLflow-Introduction",
         "2896948810282060",
         "NOTEBOOK",
         "[{\"artifact_path\":\"log_reg_model\",\"flavors\":{\"python_function\":{\"model_path\":\"model.pkl\",\"loader_module\":\"mlflow.sklearn\",\"python_version\":\"3.8.10\",\"env\":\"conda.yaml\"},\"sklearn\":{\"pickled_model\":\"model.pkl\",\"sklearn_version\":\"0.24.1\",\"serialization_format\":\"cloudpickle\"}},\"run_id\":\"591c8c63b0b747dca8c4a852978e2053\",\"utc_time_created\":\"2022-09-04 15:28:00.920656\",\"databricks_runtime\":\"10.4.x-scala2.12\"}]",
         "{\"cluster_name\":\"UM6P-ME\",\"spark_version\":\"10.4.x-scala2.12\",\"node_type_id\":\"dev-tier-node\",\"driver_node_type_id\":\"dev-tier-node\",\"autotermination_minutes\":120,\"disk_spec\":{\"disk_count\":0},\"num_workers\":0}",
         "6635712959458579325_5048262128303007165_cee5dc98a4b64b03b6e1eb8b1910ffb2",
         "https://community.cloud.databricks.com",
         "{\"installable\":[],\"redacted\":[]}"
        ],
        [
         "e9bdacca8b204911bfffd05b10dfc855",
         "3693745557549495",
         "FINISHED",
         "dbfs:/databricks/mlflow-tracking/3693745557549495/e9bdacca8b204911bfffd05b10dfc855/artifacts",
         "2022-06-20T10:16:57.083+0000",
         "2022-06-20T10:17:03.061+0000",
         0.8534122528037835,
         0.9987382145736217,
         0.9989250829555545,
         "0620-101313-s4q2hgnx",
         "1655720223343",
         "fahd.kalloubi@gmail.com",
         "/Users/fahd.kalloubi@gmail.com/MLflow-Introduction",
         "/Users/fahd.kalloubi@gmail.com/MLflow-Introduction",
         "2896948810282060",
         "NOTEBOOK",
         "[{\"artifact_path\":\"log_reg_model\",\"flavors\":{\"python_function\":{\"model_path\":\"model.pkl\",\"loader_module\":\"mlflow.sklearn\",\"python_version\":\"3.8.10\",\"env\":\"conda.yaml\"},\"sklearn\":{\"pickled_model\":\"model.pkl\",\"sklearn_version\":\"0.24.1\",\"serialization_format\":\"cloudpickle\"}},\"run_id\":\"e9bdacca8b204911bfffd05b10dfc855\",\"utc_time_created\":\"2022-06-20 10:17:00.297711\",\"databricks_runtime\":\"10.4.x-scala2.12\"}]",
         "{\"cluster_name\":\"UM6P-SD\",\"spark_version\":\"10.4.x-scala2.12\",\"node_type_id\":\"dev-tier-node\",\"driver_node_type_id\":\"dev-tier-node\",\"autotermination_minutes\":120,\"disk_spec\":{\"disk_count\":0},\"num_workers\":0}",
         "8793208756980924392_7092050744124407699_f80938fc4ea04adc8f57f51834083ec7",
         "https://community.cloud.databricks.com",
         "{\"installable\":[],\"redacted\":[]}"
        ],
        [
         "8c4c7602eb654a8dbeaba72c5865b736",
         "3693745557549495",
         "RUNNING",
         "dbfs:/databricks/mlflow-tracking/3693745557549495/8c4c7602eb654a8dbeaba72c5865b736/artifacts",
         "2022-06-19T21:36:08.118+0000",
         null,
         null,
         null,
         null,
         "0619-210426-9elms600",
         null,
         "fahd.kalloubi@gmail.com",
         "/Users/fahd.kalloubi@gmail.com/MLflow-Introduction",
         "/Users/fahd.kalloubi@gmail.com/MLflow-Introduction",
         "2896948810282060",
         "NOTEBOOK",
         null,
         "{\"cluster_name\":\"UM6P-DS-Cluster\",\"spark_version\":\"10.4.x-scala2.12\",\"node_type_id\":\"dev-tier-node\",\"driver_node_type_id\":\"dev-tier-node\",\"autotermination_minutes\":120,\"disk_spec\":{\"disk_count\":0},\"num_workers\":0}",
         "2940594771173668889_7436315473862625537_750bf774e4234215879aaa21b8a3d1f9",
         "https://community.cloud.databricks.com",
         "{\"installable\":[],\"redacted\":[]}"
        ],
        [
         "3d7fe8522bc846a9b00ce6f4d2b09a8e",
         "3693745557549495",
         "FINISHED",
         "dbfs:/databricks/mlflow-tracking/3693745557549495/3d7fe8522bc846a9b00ce6f4d2b09a8e/artifacts",
         "2022-06-19T21:13:58.865+0000",
         "2022-06-19T21:14:04.523+0000",
         0.8534122528037835,
         0.9987382145736217,
         0.9989250829555545,
         "0619-210426-9elms600",
         "1655673244792",
         "fahd.kalloubi@gmail.com",
         "/Users/fahd.kalloubi@gmail.com/MLflow-Introduction",
         "/Users/fahd.kalloubi@gmail.com/MLflow-Introduction",
         "2896948810282060",
         "NOTEBOOK",
         "[{\"artifact_path\":\"log_reg_model\",\"flavors\":{\"python_function\":{\"model_path\":\"model.pkl\",\"loader_module\":\"mlflow.sklearn\",\"python_version\":\"3.8.10\",\"env\":\"conda.yaml\"},\"sklearn\":{\"pickled_model\":\"model.pkl\",\"sklearn_version\":\"0.24.1\",\"serialization_format\":\"cloudpickle\"}},\"run_id\":\"3d7fe8522bc846a9b00ce6f4d2b09a8e\",\"utc_time_created\":\"2022-06-19 21:14:02.045517\",\"databricks_runtime\":\"10.4.x-scala2.12\"}]",
         "{\"cluster_name\":\"UM6P-DS-Cluster\",\"spark_version\":\"10.4.x-scala2.12\",\"node_type_id\":\"dev-tier-node\",\"driver_node_type_id\":\"dev-tier-node\",\"autotermination_minutes\":120,\"disk_spec\":{\"disk_count\":0},\"num_workers\":0}",
         "2940594771173668889_6159696386793884203_72e2f64eae8b4ff1b56a57238ab5963c",
         "https://community.cloud.databricks.com",
         "{\"installable\":[],\"redacted\":[]}"
        ],
        [
         "0877b81ae26641dd82fd1dc2523454cb",
         "3693745557549495",
         "FINISHED",
         "dbfs:/databricks/mlflow-tracking/3693745557549495/0877b81ae26641dd82fd1dc2523454cb/artifacts",
         "2022-06-19T21:13:26.304+0000",
         "2022-06-19T21:13:32.129+0000",
         0.8534122528037835,
         0.9987382145736217,
         0.9989250829555545,
         "0619-210426-9elms600",
         "1655673212358",
         "fahd.kalloubi@gmail.com",
         "/Users/fahd.kalloubi@gmail.com/MLflow-Introduction",
         "/Users/fahd.kalloubi@gmail.com/MLflow-Introduction",
         "2896948810282060",
         "NOTEBOOK",
         "[{\"artifact_path\":\"log_reg_model\",\"flavors\":{\"python_function\":{\"model_path\":\"model.pkl\",\"loader_module\":\"mlflow.sklearn\",\"python_version\":\"3.8.10\",\"env\":\"conda.yaml\"},\"sklearn\":{\"pickled_model\":\"model.pkl\",\"sklearn_version\":\"0.24.1\",\"serialization_format\":\"cloudpickle\"}},\"run_id\":\"0877b81ae26641dd82fd1dc2523454cb\",\"utc_time_created\":\"2022-06-19 21:13:29.899815\",\"databricks_runtime\":\"10.4.x-scala2.12\"}]",
         "{\"cluster_name\":\"UM6P-DS-Cluster\",\"spark_version\":\"10.4.x-scala2.12\",\"node_type_id\":\"dev-tier-node\",\"driver_node_type_id\":\"dev-tier-node\",\"autotermination_minutes\":120,\"disk_spec\":{\"disk_count\":0},\"num_workers\":0}",
         "2940594771173668889_8012208054067343448_4ec833000b384473a0c6ab4f213b420c",
         "https://community.cloud.databricks.com",
         "{\"installable\":[],\"redacted\":[]}"
        ],
        [
         "8e8cd09e5fd54b818736f921783df252",
         "3693745557549495",
         "FINISHED",
         "dbfs:/databricks/mlflow-tracking/3693745557549495/8e8cd09e5fd54b818736f921783df252/artifacts",
         "2022-06-19T21:12:50.167+0000",
         "2022-06-19T21:12:56.852+0000",
         0.8534122528037835,
         0.9987382145736217,
         0.9989250829555545,
         "0619-210426-9elms600",
         "1655673177180",
         "fahd.kalloubi@gmail.com",
         "/Users/fahd.kalloubi@gmail.com/MLflow-Introduction",
         "/Users/fahd.kalloubi@gmail.com/MLflow-Introduction",
         "2896948810282060",
         "NOTEBOOK",
         "[{\"artifact_path\":\"log_reg_model\",\"flavors\":{\"python_function\":{\"model_path\":\"model.pkl\",\"loader_module\":\"mlflow.sklearn\",\"python_version\":\"3.8.10\",\"env\":\"conda.yaml\"},\"sklearn\":{\"pickled_model\":\"model.pkl\",\"sklearn_version\":\"0.24.1\",\"serialization_format\":\"cloudpickle\"}},\"run_id\":\"8e8cd09e5fd54b818736f921783df252\",\"utc_time_created\":\"2022-06-19 21:12:54.279252\",\"databricks_runtime\":\"10.4.x-scala2.12\"}]",
         "{\"cluster_name\":\"UM6P-DS-Cluster\",\"spark_version\":\"10.4.x-scala2.12\",\"node_type_id\":\"dev-tier-node\",\"driver_node_type_id\":\"dev-tier-node\",\"autotermination_minutes\":120,\"disk_spec\":{\"disk_count\":0},\"num_workers\":0}",
         "2940594771173668889_6629791971369064200_d8c04f653cbe4f729a680c747f4864ba",
         "https://community.cloud.databricks.com",
         "{\"installable\":[],\"redacted\":[]}"
        ],
        [
         "a1ece9e249b44be595da5356113d2f5d",
         "3693745557549495",
         "FINISHED",
         "dbfs:/databricks/mlflow-tracking/3693745557549495/a1ece9e249b44be595da5356113d2f5d/artifacts",
         "2022-06-19T21:11:52.412+0000",
         "2022-06-19T21:11:59.994+0000",
         0.8534122528037835,
         0.9987382145736217,
         0.9989250829555545,
         "0619-210426-9elms600",
         "1655673120375",
         "fahd.kalloubi@gmail.com",
         "/Users/fahd.kalloubi@gmail.com/MLflow-Introduction",
         "/Users/fahd.kalloubi@gmail.com/MLflow-Introduction",
         "2896948810282060",
         "NOTEBOOK",
         "[{\"artifact_path\":\"log_reg_model\",\"flavors\":{\"python_function\":{\"model_path\":\"model.pkl\",\"loader_module\":\"mlflow.sklearn\",\"python_version\":\"3.8.10\",\"env\":\"conda.yaml\"},\"sklearn\":{\"pickled_model\":\"model.pkl\",\"sklearn_version\":\"0.24.1\",\"serialization_format\":\"cloudpickle\"}},\"run_id\":\"a1ece9e249b44be595da5356113d2f5d\",\"utc_time_created\":\"2022-06-19 21:11:57.082004\",\"databricks_runtime\":\"10.4.x-scala2.12\"}]",
         "{\"cluster_name\":\"UM6P-DS-Cluster\",\"spark_version\":\"10.4.x-scala2.12\",\"node_type_id\":\"dev-tier-node\",\"driver_node_type_id\":\"dev-tier-node\",\"autotermination_minutes\":120,\"disk_spec\":{\"disk_count\":0},\"num_workers\":0}",
         "2940594771173668889_6395957657639436868_e85760a9a4e34b7097650a086c77fb35",
         "https://community.cloud.databricks.com",
         "{\"installable\":[],\"redacted\":[]}"
        ],
        [
         "e9a3c8a563c541a98bccf598c5786b9d",
         "3693745557549495",
         "FINISHED",
         "dbfs:/databricks/mlflow-tracking/3693745557549495/e9a3c8a563c541a98bccf598c5786b9d/artifacts",
         "2022-06-19T16:37:35.412+0000",
         "2022-06-19T16:37:41.553+0000",
         0.8534122528037835,
         0.9987382145736217,
         0.9989250829555545,
         "0619-160025-jvd2qbyt",
         "1655656661760",
         "fahd.kalloubi@gmail.com",
         "/Users/fahd.kalloubi@gmail.com/MLflow-Introduction",
         "/Users/fahd.kalloubi@gmail.com/MLflow-Introduction",
         "2896948810282060",
         "NOTEBOOK",
         "[{\"artifact_path\":\"log_reg_model\",\"flavors\":{\"python_function\":{\"model_path\":\"model.pkl\",\"loader_module\":\"mlflow.sklearn\",\"python_version\":\"3.8.10\",\"env\":\"conda.yaml\"},\"sklearn\":{\"pickled_model\":\"model.pkl\",\"sklearn_version\":\"0.24.1\",\"serialization_format\":\"cloudpickle\"}},\"run_id\":\"e9a3c8a563c541a98bccf598c5786b9d\",\"utc_time_created\":\"2022-06-19 16:37:39.206769\",\"databricks_runtime\":\"10.4.x-scala2.12\"}]",
         "{\"cluster_name\":\"UM6P-Intro\",\"spark_version\":\"10.4.x-scala2.12\",\"node_type_id\":\"dev-tier-node\",\"driver_node_type_id\":\"dev-tier-node\",\"autotermination_minutes\":120,\"disk_spec\":{\"disk_count\":0},\"num_workers\":0}",
         "7017169050755816369_7569635596922072484_43035ad31da44c179fc919fc28e1bfea",
         "https://community.cloud.databricks.com",
         "{\"installable\":[],\"redacted\":[]}"
        ]
       ],
       "datasetInfos": [],
       "dbfsResultPath": null,
       "isJsonSchema": true,
       "metadata": {},
       "overflow": false,
       "plotOptions": {
        "customPlotOptions": {},
        "displayType": "table",
        "pivotAggregation": null,
        "pivotColumns": null,
        "xColumns": null,
        "yColumns": null
       },
       "removedWidgets": [],
       "schema": [
        {
         "metadata": "{}",
         "name": "run_id",
         "type": "\"string\""
        },
        {
         "metadata": "{}",
         "name": "experiment_id",
         "type": "\"string\""
        },
        {
         "metadata": "{}",
         "name": "status",
         "type": "\"string\""
        },
        {
         "metadata": "{}",
         "name": "artifact_uri",
         "type": "\"string\""
        },
        {
         "metadata": "{}",
         "name": "start_time",
         "type": "\"timestamp\""
        },
        {
         "metadata": "{}",
         "name": "end_time",
         "type": "\"timestamp\""
        },
        {
         "metadata": "{}",
         "name": "metrics.auc_score",
         "type": "\"double\""
        },
        {
         "metadata": "{}",
         "name": "metrics.eval_acc",
         "type": "\"double\""
        },
        {
         "metadata": "{}",
         "name": "metrics.train_acc",
         "type": "\"double\""
        },
        {
         "metadata": "{}",
         "name": "tags.mlflow.databricks.cluster.id",
         "type": "\"string\""
        },
        {
         "metadata": "{}",
         "name": "tags.mlflow.databricks.notebookRevisionID",
         "type": "\"string\""
        },
        {
         "metadata": "{}",
         "name": "tags.mlflow.user",
         "type": "\"string\""
        },
        {
         "metadata": "{}",
         "name": "tags.mlflow.source.name",
         "type": "\"string\""
        },
        {
         "metadata": "{}",
         "name": "tags.mlflow.databricks.notebookPath",
         "type": "\"string\""
        },
        {
         "metadata": "{}",
         "name": "tags.mlflow.databricks.notebookID",
         "type": "\"string\""
        },
        {
         "metadata": "{}",
         "name": "tags.mlflow.source.type",
         "type": "\"string\""
        },
        {
         "metadata": "{}",
         "name": "tags.mlflow.log-model.history",
         "type": "\"string\""
        },
        {
         "metadata": "{}",
         "name": "tags.mlflow.databricks.cluster.info",
         "type": "\"string\""
        },
        {
         "metadata": "{}",
         "name": "tags.mlflow.databricks.notebook.commandID",
         "type": "\"string\""
        },
        {
         "metadata": "{}",
         "name": "tags.mlflow.databricks.webappURL",
         "type": "\"string\""
        },
        {
         "metadata": "{}",
         "name": "tags.mlflow.databricks.cluster.libraries",
         "type": "\"string\""
        }
       ],
       "type": "table"
      }
     },
     "output_type": "display_data"
    }
   ],
   "source": [
    "all_runs = mlflow.search_runs(max_results=10)  # Note : This is pandas dataframe\n",
    "display(all_runs)"
   ]
  },
  {
   "cell_type": "markdown",
   "metadata": {
    "application/vnd.databricks.v1+cell": {
     "inputWidgets": {},
     "nuid": "52230943-0dd9-4d07-b541-d5fcd525da8f",
     "showTitle": false,
     "title": ""
    }
   },
   "source": [
    "TAF: \n",
    "\n",
    "1. réexécutez la cellule 18 en utilisant d'autres modèle ML de SKlearn \n",
    "2. comparez vos résultats en utilisant l'outil de comparaison de MLFlow"
   ]
  },
  {
   "cell_type": "code",
   "execution_count": 0,
   "metadata": {
    "application/vnd.databricks.v1+cell": {
     "inputWidgets": {},
     "nuid": "557e4e7f-be3a-41d1-ab3b-7b8c1d8f6983",
     "showTitle": false,
     "title": ""
    }
   },
   "outputs": [],
   "source": []
  }
 ],
 "metadata": {
  "application/vnd.databricks.v1+notebook": {
   "dashboards": [],
   "language": "python",
   "notebookMetadata": {
    "pythonIndentUnit": 2
   },
   "notebookName": "MLflow-DataBricks",
   "notebookOrigID": 2896948810282060,
   "widgets": {}
  },
  "kernelspec": {
   "display_name": "Python 3 (ipykernel)",
   "language": "python",
   "name": "python3"
  },
  "language_info": {
   "codemirror_mode": {
    "name": "ipython",
    "version": 3
   },
   "file_extension": ".py",
   "mimetype": "text/x-python",
   "name": "python",
   "nbconvert_exporter": "python",
   "pygments_lexer": "ipython3",
   "version": "3.7.13"
  }
 },
 "nbformat": 4,
 "nbformat_minor": 1
}
